{
  "nbformat": 4,
  "nbformat_minor": 0,
  "metadata": {
    "colab": {
      "provenance": [],
      "authorship_tag": "ABX9TyMLbkpYbTzOqLc5N/ODSwap",
      "include_colab_link": true
    },
    "kernelspec": {
      "name": "python3",
      "display_name": "Python 3"
    },
    "language_info": {
      "name": "python"
    }
  },
  "cells": [
    {
      "cell_type": "markdown",
      "metadata": {
        "id": "view-in-github",
        "colab_type": "text"
      },
      "source": [
        "<a href=\"https://colab.research.google.com/github/utku-ozcan/Machine_Learning/blob/main/lab0.ipynb\" target=\"_parent\"><img src=\"https://colab.research.google.com/assets/colab-badge.svg\" alt=\"Open In Colab\"/></a>"
      ]
    },
    {
      "cell_type": "code",
      "execution_count": null,
      "metadata": {
        "colab": {
          "base_uri": "https://localhost:8080/"
        },
        "id": "qTTfxIxuPtyE",
        "outputId": "1234e81a-a8b6-413d-d257-0485abe259ba"
      },
      "outputs": [
        {
          "output_type": "stream",
          "name": "stdout",
          "text": [
            "['sepal length (cm)', 'sepal width (cm)', 'petal length (cm)', 'petal width (cm)']\n",
            "[[5.1 3.5 1.4 0.2]\n",
            " [4.9 3.  1.4 0.2]\n",
            " [4.7 3.2 1.3 0.2]\n",
            " [4.6 3.1 1.5 0.2]\n",
            " [5.  3.6 1.4 0.2]]\n",
            "[0 0 0 0 0 0 0 0 0 0 0 0 0 0 0 0 0 0 0 0 0 0 0 0 0 0 0 0 0 0 0 0 0 0 0 0 0\n",
            " 0 0 0 0 0 0 0 0 0 0 0 0 0 1 1 1 1 1 1 1 1 1 1 1 1 1 1 1 1 1 1 1 1 1 1 1 1\n",
            " 1 1 1 1 1 1 1 1 1 1 1 1 1 1 1 1 1 1 1 1 1 1 1 1 1 1 2 2 2 2 2 2 2 2 2 2 2\n",
            " 2 2 2 2 2 2 2 2 2 2 2 2 2 2 2 2 2 2 2 2 2 2 2 2 2 2 2 2 2 2 2 2 2 2 2 2 2\n",
            " 2 2]\n"
          ]
        }
      ],
      "source": [
        "from sklearn.datasets import load_iris\n",
        "iris = load_iris()\n",
        "iris.feature_names\n",
        "#print(iris.feature_names)\n",
        "print(iris.feature_names)\n",
        "print(iris.data[0:5,:])\n",
        "print(iris.target[:])\n",
        "#print(iris.data)\n"
      ]
    },
    {
      "cell_type": "code",
      "source": [
        "from sklearn.model_selection import train_test_split\n",
        "X=iris.data\n",
        "y=iris.target\n",
        "X_train, X_test, y_train, y_test = train_test_split(X,y,test_size=0.2)\n",
        "print(X_train.shape)\n",
        "print(X_test.shape)\n",
        "X.shape\n",
        "print(y_test)"
      ],
      "metadata": {
        "colab": {
          "base_uri": "https://localhost:8080/"
        },
        "id": "O_t7WmOYTFVG",
        "outputId": "23449ee6-8fef-483c-cfcf-20f736258fca"
      },
      "execution_count": null,
      "outputs": [
        {
          "output_type": "stream",
          "name": "stdout",
          "text": [
            "(120, 4)\n",
            "(30, 4)\n",
            "[2 0 2 1 1 0 0 1 2 1 0 1 2 1 0 0 2 2 2 2 1 2 2 1 0 1 0 1 2 2]\n"
          ]
        }
      ]
    },
    {
      "cell_type": "code",
      "source": [
        "from sklearn.svm import SVC\n",
        "SVMmodel=SVC(kernel='linear')\n",
        "SVMmodel.fit(X_train,y_train)\n",
        "SVMmodel.get_params()\n",
        "SVMmodel.score(X_test,y_test)"
      ],
      "metadata": {
        "colab": {
          "base_uri": "https://localhost:8080/"
        },
        "id": "HH6zFuT_UFEv",
        "outputId": "ee75c8e2-5254-4225-edd8-e56cf4e7a940"
      },
      "execution_count": null,
      "outputs": [
        {
          "output_type": "execute_result",
          "data": {
            "text/plain": [
              "0.9666666666666667"
            ]
          },
          "metadata": {},
          "execution_count": 4
        }
      ]
    },
    {
      "cell_type": "code",
      "source": [
        "SVMmodel.get_params()"
      ],
      "metadata": {
        "colab": {
          "base_uri": "https://localhost:8080/"
        },
        "id": "4xyo6OYcUuwU",
        "outputId": "6b052b57-c7eb-457c-e1f9-b17093735a8d"
      },
      "execution_count": null,
      "outputs": [
        {
          "output_type": "execute_result",
          "data": {
            "text/plain": [
              "{'C': 1.0,\n",
              " 'break_ties': False,\n",
              " 'cache_size': 200,\n",
              " 'class_weight': None,\n",
              " 'coef0': 0.0,\n",
              " 'decision_function_shape': 'ovr',\n",
              " 'degree': 3,\n",
              " 'gamma': 'scale',\n",
              " 'kernel': 'linear',\n",
              " 'max_iter': -1,\n",
              " 'probability': False,\n",
              " 'random_state': None,\n",
              " 'shrinking': True,\n",
              " 'tol': 0.001,\n",
              " 'verbose': False}"
            ]
          },
          "metadata": {},
          "execution_count": 5
        }
      ]
    },
    {
      "cell_type": "code",
      "source": [
        "from sklearn.model_selection import SVC\n"
      ],
      "metadata": {
        "id": "ttKqAULMVGE-"
      },
      "execution_count": null,
      "outputs": []
    },
    {
      "cell_type": "code",
      "execution_count": null,
      "metadata": {
        "colab": {
          "base_uri": "https://localhost:8080/"
        },
        "outputId": "477e0654-7f49-47bb-d5ac-1806bf80397d",
        "id": "oOWI3F2SXMxT"
      },
      "outputs": [
        {
          "output_type": "stream",
          "name": "stdout",
          "text": [
            "(80, 2)\n",
            "(20, 2)\n",
            "[1 0 0 0 0 0 1 0 0 1 1 1 1 0 1 0 0 1 0 1]\n"
          ]
        }
      ],
      "source": [
        "from sklearn.model_selection import train_test_split\n",
        "X = iris.data[iris.target !=2, 0:2]\n",
        "y = iris.target[iris.target !=2]\n",
        "#iris.target !=2\n",
        "X_train, X_test, y_train, y_test = train_test_split(X, y, test_size = 0.2)\n",
        "\n",
        "\n",
        "print(X_train.shape)\n",
        "print(X_test.shape)\n",
        "print(y_test)\n"
      ]
    },
    {
      "cell_type": "code",
      "source": [
        "import matplotlib.pyplot as plt\n",
        "plt.scatter (X[y==0,0] , X[y ==0,1], color = 'green',marker = '*')\n",
        "plt.scatter (X[y==1,0] , X[y ==1,1], color = 'blue', marker = 's' )\n",
        "plt.scatter (X[y==2,0] , X[y ==2,1], color = 'cyan')"
      ],
      "metadata": {
        "colab": {
          "base_uri": "https://localhost:8080/",
          "height": 450
        },
        "id": "6U2s-oFvYdGx",
        "outputId": "7ac41d48-7e25-4b7d-c334-dce5d096eabb"
      },
      "execution_count": null,
      "outputs": [
        {
          "output_type": "execute_result",
          "data": {
            "text/plain": [
              "<matplotlib.collections.PathCollection at 0x7c3f49ebd120>"
            ]
          },
          "metadata": {},
          "execution_count": 7
        },
        {
          "output_type": "display_data",
          "data": {
            "text/plain": [
              "<Figure size 640x480 with 1 Axes>"
            ],
            "image/png": "[encoded data removed]"
          },
          "metadata": {}
        }
      ]
    },
    {
      "cell_type": "code",
      "source": [
        "from sklearn.svm import SVC\n",
        "SVMmodel=SVC(kernel='linear')\n",
        "SVMmodel.fit(X_train,y_train)\n",
        "SVMmodel.get_params()\n",
        "SVMmodel.score(X_test,y_test)"
      ],
      "metadata": {
        "colab": {
          "base_uri": "https://localhost:8080/"
        },
        "id": "iZIDJXflau6i",
        "outputId": "5a588d65-d1f6-44a4-b422-487fd99bbbb7"
      },
      "execution_count": null,
      "outputs": [
        {
          "output_type": "execute_result",
          "data": {
            "text/plain": [
              "1.0"
            ]
          },
          "metadata": {},
          "execution_count": 8
        }
      ]
    },
    {
      "cell_type": "code",
      "source": [
        "import numpy as np\n",
        "supvectors = SVMmodel.support_vectors_\n",
        "W = SVMmodel.coef_\n",
        "b = SVMmodel.intercept_\n",
        "\n",
        "\n",
        "print(W)\n",
        "print(b)\n",
        "print(supvectors)\n",
        "print(supvectors.shape)\n",
        "plt.scatter (X[y==0,0] , X[y ==0,1], color = 'green',marker = '*')\n",
        "plt.scatter (X[y==1,0] , X[y ==1,1], color = 'blue', marker = 's' )\n",
        "\n",
        "\n",
        "x0 = np.linspace(4, 8, 200)\n",
        "x1 = -(W[0] * x0 + b) / W[1]  # Decision line equation: w0*x0 + w1*x1 + b = 0\n",
        "plt.plot(x0, x1, 'k--', label='Decision Boundary')\n",
        "\n",
        "plt.scatter(supvectors[:, 0], supvectors[:, 1], color='cyan', marker='o', label='Support Vectors')\n",
        "\n",
        "plt.xlabel('Feature 1')\n",
        "plt.ylabel('Feature 2')\n",
        "plt.legend()\n",
        "plt.title('Support Vectors Visualization')\n",
        "plt.show()"
      ],
      "metadata": {
        "colab": {
          "base_uri": "https://localhost:8080/",
          "height": 1000
        },
        "id": "OWLlFmtfa-xc",
        "outputId": "35e8ab9b-5185-49dd-d636-41b471c3cdea"
      },
      "execution_count": null,
      "outputs": [
        {
          "output_type": "stream",
          "name": "stdout",
          "text": [
            "[[ 2.22265605 -2.2207155 ]]\n",
            "[-5.00695901]\n",
            "[[5.1 3.3]\n",
            " [5.8 4. ]\n",
            " [5.4 3.4]\n",
            " [4.9 3.1]\n",
            " [4.8 3. ]\n",
            " [5.  3. ]\n",
            " [4.5 2.3]\n",
            " [4.9 3. ]\n",
            " [5.4 3.4]\n",
            " [5.5 3.5]\n",
            " [5.6 2.9]\n",
            " [6.  3.4]\n",
            " [5.9 3.2]\n",
            " [5.7 3. ]\n",
            " [5.4 3. ]\n",
            " [5.6 3. ]\n",
            " [5.1 2.5]\n",
            " [5.6 3. ]\n",
            " [4.9 2.4]]\n",
            "(19, 2)\n"
          ]
        },
        {
          "output_type": "error",
          "ename": "ValueError",
          "evalue": "operands could not be broadcast together with shapes (2,) (200,) ",
          "traceback": [
            "\u001b[0;31m---------------------------------------------------------------------------\u001b[0m",
            "\u001b[0;31mValueError\u001b[0m                                Traceback (most recent call last)",
            "\u001b[0;32m<ipython-input-10-30e5e986ff68>\u001b[0m in \u001b[0;36m<cell line: 16>\u001b[0;34m()\u001b[0m\n\u001b[1;32m     14\u001b[0m \u001b[0;34m\u001b[0m\u001b[0m\n\u001b[1;32m     15\u001b[0m \u001b[0mx0\u001b[0m \u001b[0;34m=\u001b[0m \u001b[0mnp\u001b[0m\u001b[0;34m.\u001b[0m\u001b[0mlinspace\u001b[0m\u001b[0;34m(\u001b[0m\u001b[0;36m4\u001b[0m\u001b[0;34m,\u001b[0m \u001b[0;36m8\u001b[0m\u001b[0;34m,\u001b[0m \u001b[0;36m200\u001b[0m\u001b[0;34m)\u001b[0m\u001b[0;34m\u001b[0m\u001b[0;34m\u001b[0m\u001b[0m\n\u001b[0;32m---> 16\u001b[0;31m \u001b[0mx1\u001b[0m \u001b[0;34m=\u001b[0m \u001b[0;34m-\u001b[0m\u001b[0;34m(\u001b[0m\u001b[0mW\u001b[0m\u001b[0;34m[\u001b[0m\u001b[0;36m0\u001b[0m\u001b[0;34m]\u001b[0m \u001b[0;34m*\u001b[0m \u001b[0mx0\u001b[0m \u001b[0;34m+\u001b[0m \u001b[0mb\u001b[0m\u001b[0;34m)\u001b[0m \u001b[0;34m/\u001b[0m \u001b[0mW\u001b[0m\u001b[0;34m[\u001b[0m\u001b[0;36m1\u001b[0m\u001b[0;34m]\u001b[0m  \u001b[0;31m# Decision line equation: w0*x0 + w1*x1 + b = 0\u001b[0m\u001b[0;34m\u001b[0m\u001b[0;34m\u001b[0m\u001b[0m\n\u001b[0m\u001b[1;32m     17\u001b[0m \u001b[0mplt\u001b[0m\u001b[0;34m.\u001b[0m\u001b[0mplot\u001b[0m\u001b[0;34m(\u001b[0m\u001b[0mx0\u001b[0m\u001b[0;34m,\u001b[0m \u001b[0mx1\u001b[0m\u001b[0;34m,\u001b[0m \u001b[0;34m'k--'\u001b[0m\u001b[0;34m,\u001b[0m \u001b[0mlabel\u001b[0m\u001b[0;34m=\u001b[0m\u001b[0;34m'Decision Boundary'\u001b[0m\u001b[0;34m)\u001b[0m\u001b[0;34m\u001b[0m\u001b[0;34m\u001b[0m\u001b[0m\n\u001b[1;32m     18\u001b[0m \u001b[0;34m\u001b[0m\u001b[0m\n",
            "\u001b[0;31mValueError\u001b[0m: operands could not be broadcast together with shapes (2,) (200,) "
          ]
        },
        {
          "output_type": "display_data",
          "data": {
            "text/plain": [
              "<Figure size 640x480 with 1 Axes>"
            ],
            "image/png": "[encoded data removed]"
          },
          "metadata": {}
        }
      ]
    },
    {
      "cell_type": "code",
      "source": [
        "import numpy as np\n",
        "import matplotlib.pyplot as plt\n",
        "\n",
        "# Assuming you have defined SVMmodel, supvectors, W, b, X, and y somewhere in your code\n",
        "\n",
        "print(W)\n",
        "print(b)\n",
        "print(supvectors)\n",
        "print(supvectors.shape)\n",
        "\n",
        "plt.scatter(X[y == 0, 0], X[y == 0, 1], color='green', marker='*')\n",
        "plt.scatter(X[y == 1, 0], X[y == 1, 1], color='blue', marker='s')\n",
        "\n",
        "x0 = np.linspace(4, 8, 200)\n",
        "x1 = -(W[0][0] * x0 + b) / W[0][1]  # Decision line equation: w0*x0 + w1*x1 + b = 0\n",
        "\n",
        "plt.plot(x0, x1, 'k--', label='Decision Boundary')\n",
        "\n",
        "plt.scatter(supvectors[:, 0], supvectors[:, 1], color='cyan', marker='o', label='Support Vectors')\n"
      ],
      "metadata": {
        "colab": {
          "base_uri": "https://localhost:8080/",
          "height": 829
        },
        "id": "onFOXlkNQw8t",
        "outputId": "848161f5-d0a3-4b7b-b273-90e229fba0f7"
      },
      "execution_count": null,
      "outputs": [
        {
          "output_type": "stream",
          "name": "stdout",
          "text": [
            "[[ 2.22265605 -2.2207155 ]]\n",
            "[-5.00695901]\n",
            "[[5.1 3.3]\n",
            " [5.8 4. ]\n",
            " [5.4 3.4]\n",
            " [4.9 3.1]\n",
            " [4.8 3. ]\n",
            " [5.  3. ]\n",
            " [4.5 2.3]\n",
            " [4.9 3. ]\n",
            " [5.4 3.4]\n",
            " [5.5 3.5]\n",
            " [5.6 2.9]\n",
            " [6.  3.4]\n",
            " [5.9 3.2]\n",
            " [5.7 3. ]\n",
            " [5.4 3. ]\n",
            " [5.6 3. ]\n",
            " [5.1 2.5]\n",
            " [5.6 3. ]\n",
            " [4.9 2.4]]\n",
            "(19, 2)\n"
          ]
        },
        {
          "output_type": "execute_result",
          "data": {
            "text/plain": [
              "<matplotlib.collections.PathCollection at 0x7c3f47e10280>"
            ]
          },
          "metadata": {},
          "execution_count": 12
        },
        {
          "output_type": "display_data",
          "data": {
            "text/plain": [
              "<Figure size 640x480 with 1 Axes>"
            ],
            "image/png": "[encoded data removed]"
          },
          "metadata": {}
        }
      ]
    }
  ]
}