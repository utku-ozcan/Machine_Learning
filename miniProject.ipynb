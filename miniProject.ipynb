{
  "nbformat": 4,
  "nbformat_minor": 0,
  "metadata": {
    "colab": {
      "provenance": [],
      "gpuType": "T4",
      "include_colab_link": true
    },
    "kernelspec": {
      "name": "python3",
      "display_name": "Python 3"
    },
    "language_info": {
      "name": "python"
    },
    "accelerator": "GPU"
  },
  "cells": [
    {
      "cell_type": "markdown",
      "metadata": {
        "id": "view-in-github",
        "colab_type": "text"
      },
      "source": [
        "<a href=\"https://colab.research.google.com/github/utku-ozcan/Machine_Learning/blob/main/miniProject.ipynb\" target=\"_parent\"><img src=\"https://colab.research.google.com/assets/colab-badge.svg\" alt=\"Open In Colab\"/></a>"
      ]
    },
    {
      "cell_type": "code",
      "source": [
        "from tensorflow import keras\n",
        "from keras.models import Sequential\n",
        "from keras.datasets import mnist\n",
        "import numpy as np\n",
        "import pandas as pd\n",
        "import tensorflow as tf\n",
        "from keras.optimizers import SGD\n",
        "from keras.datasets import cifar10\n",
        "from keras.utils import to_categorical\n",
        "import matplotlib.pyplot as plt\n",
        "import cv2\n",
        "from sklearn.preprocessing import StandardScaler\n",
        "from numpy.linalg import norm\n",
        "from sklearn.cluster import KMeans\n",
        "from sklearn.metrics import silhouette_score"
      ],
      "metadata": {
        "id": "GxRTJm4zq5zO"
      },
      "execution_count": 5,
      "outputs": []
    },
    {
      "cell_type": "code",
      "source": [
        "path_to_dataset = '/content/drive/MyDrive/Data_prepared_final.csv'\n",
        "pd_dataset = pd.read_csv(path_to_dataset)"
      ],
      "metadata": {
        "id": "I2L2IzyKhE9r"
      },
      "execution_count": 6,
      "outputs": []
    },
    {
      "cell_type": "code",
      "source": [
        "pd_dataset"
      ],
      "metadata": {
        "id": "mas70QKdyY-5",
        "colab": {
          "base_uri": "https://localhost:8080/",
          "height": 424
        },
        "outputId": "167527b8-58ff-4418-b5a0-1e76c0b7cfcc"
      },
      "execution_count": 7,
      "outputs": [
        {
          "output_type": "execute_result",
          "data": {
            "text/plain": [
              "       Unnamed: 0   time [s]  cfo_meas   cfo_demod  gain_imb     iq_imb  \\\n",
              "0               0  45181.524      -414 -421.076324  0.076097 -46.987598   \n",
              "1               1  45182.129      -414 -423.571686  0.069879 -47.852627   \n",
              "2               2  45182.550      -414 -421.033936  0.061466 -48.968697   \n",
              "3               3  45182.971      -414 -420.103546  0.078836 -46.756973   \n",
              "4               4  45183.551      -432 -420.781097  0.066053 -47.048218   \n",
              "...           ...        ...       ...         ...       ...        ...   \n",
              "19195       19195  54245.724       216  215.584991  0.077551 -35.409054   \n",
              "19196       19196  54246.340       216  215.247406  0.044961 -35.508205   \n",
              "19197       19197  54246.770       216  216.761307  0.070066 -35.038486   \n",
              "19198       19198  54247.379       216  215.353516  0.048611 -35.413639   \n",
              "19199       19199  54247.960       216  215.797363  0.063049 -35.693104   \n",
              "\n",
              "          or_off  quadr_err    ph_err   mag_err       evm  \n",
              "0     -27.219631   0.104362  1.129778  0.440299  2.059935  \n",
              "1     -26.934967   0.053158  1.050010  0.431240  1.815053  \n",
              "2     -27.130722  -0.045913  0.989473  0.447790  1.762053  \n",
              "3     -27.005318   0.081583  1.085091  0.443476  1.894204  \n",
              "4     -27.358521   0.081920  1.023701  0.465225  1.805841  \n",
              "...          ...        ...       ...       ...       ...  \n",
              "19195 -28.611925   1.875334  0.999375  1.427339  2.248822  \n",
              "19196 -27.954048   1.898758  1.031501  1.478366  2.320668  \n",
              "19197 -28.467575   2.015116  1.090227  1.468599  2.382019  \n",
              "19198 -28.528139   1.916172  0.999381  1.497681  2.283976  \n",
              "19199 -28.132133   1.834771  0.995196  1.404114  2.237176  \n",
              "\n",
              "[19200 rows x 11 columns]"
            ],
            "text/html": [
              "\n",
              "  <div id=\"df-6e92f1bf-3dd6-4ea9-9c7b-9adec2729266\" class=\"colab-df-container\">\n",
              "    <div>\n",
              "<style scoped>\n",
              "    .dataframe tbody tr th:only-of-type {\n",
              "        vertical-align: middle;\n",
              "    }\n",
              "\n",
              "    .dataframe tbody tr th {\n",
              "        vertical-align: top;\n",
              "    }\n",
              "\n",
              "    .dataframe thead th {\n",
              "        text-align: right;\n",
              "    }\n",
              "</style>\n",
              "<table border=\"1\" class=\"dataframe\">\n",
              "  <thead>\n",
              "    <tr style=\"text-align: right;\">\n",
              "      <th></th>\n",
              "      <th>Unnamed: 0</th>\n",
              "      <th>time [s]</th>\n",
              "      <th>cfo_meas</th>\n",
              "      <th>cfo_demod</th>\n",
              "      <th>gain_imb</th>\n",
              "      <th>iq_imb</th>\n",
              "      <th>or_off</th>\n",
              "      <th>quadr_err</th>\n",
              "      <th>ph_err</th>\n",
              "      <th>mag_err</th>\n",
              "      <th>evm</th>\n",
              "    </tr>\n",
              "  </thead>\n",
              "  <tbody>\n",
              "    <tr>\n",
              "      <th>0</th>\n",
              "      <td>0</td>\n",
              "      <td>45181.524</td>\n",
              "      <td>-414</td>\n",
              "      <td>-421.076324</td>\n",
              "      <td>0.076097</td>\n",
              "      <td>-46.987598</td>\n",
              "      <td>-27.219631</td>\n",
              "      <td>0.104362</td>\n",
              "      <td>1.129778</td>\n",
              "      <td>0.440299</td>\n",
              "      <td>2.059935</td>\n",
              "    </tr>\n",
              "    <tr>\n",
              "      <th>1</th>\n",
              "      <td>1</td>\n",
              "      <td>45182.129</td>\n",
              "      <td>-414</td>\n",
              "      <td>-423.571686</td>\n",
              "      <td>0.069879</td>\n",
              "      <td>-47.852627</td>\n",
              "      <td>-26.934967</td>\n",
              "      <td>0.053158</td>\n",
              "      <td>1.050010</td>\n",
              "      <td>0.431240</td>\n",
              "      <td>1.815053</td>\n",
              "    </tr>\n",
              "    <tr>\n",
              "      <th>2</th>\n",
              "      <td>2</td>\n",
              "      <td>45182.550</td>\n",
              "      <td>-414</td>\n",
              "      <td>-421.033936</td>\n",
              "      <td>0.061466</td>\n",
              "      <td>-48.968697</td>\n",
              "      <td>-27.130722</td>\n",
              "      <td>-0.045913</td>\n",
              "      <td>0.989473</td>\n",
              "      <td>0.447790</td>\n",
              "      <td>1.762053</td>\n",
              "    </tr>\n",
              "    <tr>\n",
              "      <th>3</th>\n",
              "      <td>3</td>\n",
              "      <td>45182.971</td>\n",
              "      <td>-414</td>\n",
              "      <td>-420.103546</td>\n",
              "      <td>0.078836</td>\n",
              "      <td>-46.756973</td>\n",
              "      <td>-27.005318</td>\n",
              "      <td>0.081583</td>\n",
              "      <td>1.085091</td>\n",
              "      <td>0.443476</td>\n",
              "      <td>1.894204</td>\n",
              "    </tr>\n",
              "    <tr>\n",
              "      <th>4</th>\n",
              "      <td>4</td>\n",
              "      <td>45183.551</td>\n",
              "      <td>-432</td>\n",
              "      <td>-420.781097</td>\n",
              "      <td>0.066053</td>\n",
              "      <td>-47.048218</td>\n",
              "      <td>-27.358521</td>\n",
              "      <td>0.081920</td>\n",
              "      <td>1.023701</td>\n",
              "      <td>0.465225</td>\n",
              "      <td>1.805841</td>\n",
              "    </tr>\n",
              "    <tr>\n",
              "      <th>...</th>\n",
              "      <td>...</td>\n",
              "      <td>...</td>\n",
              "      <td>...</td>\n",
              "      <td>...</td>\n",
              "      <td>...</td>\n",
              "      <td>...</td>\n",
              "      <td>...</td>\n",
              "      <td>...</td>\n",
              "      <td>...</td>\n",
              "      <td>...</td>\n",
              "      <td>...</td>\n",
              "    </tr>\n",
              "    <tr>\n",
              "      <th>19195</th>\n",
              "      <td>19195</td>\n",
              "      <td>54245.724</td>\n",
              "      <td>216</td>\n",
              "      <td>215.584991</td>\n",
              "      <td>0.077551</td>\n",
              "      <td>-35.409054</td>\n",
              "      <td>-28.611925</td>\n",
              "      <td>1.875334</td>\n",
              "      <td>0.999375</td>\n",
              "      <td>1.427339</td>\n",
              "      <td>2.248822</td>\n",
              "    </tr>\n",
              "    <tr>\n",
              "      <th>19196</th>\n",
              "      <td>19196</td>\n",
              "      <td>54246.340</td>\n",
              "      <td>216</td>\n",
              "      <td>215.247406</td>\n",
              "      <td>0.044961</td>\n",
              "      <td>-35.508205</td>\n",
              "      <td>-27.954048</td>\n",
              "      <td>1.898758</td>\n",
              "      <td>1.031501</td>\n",
              "      <td>1.478366</td>\n",
              "      <td>2.320668</td>\n",
              "    </tr>\n",
              "    <tr>\n",
              "      <th>19197</th>\n",
              "      <td>19197</td>\n",
              "      <td>54246.770</td>\n",
              "      <td>216</td>\n",
              "      <td>216.761307</td>\n",
              "      <td>0.070066</td>\n",
              "      <td>-35.038486</td>\n",
              "      <td>-28.467575</td>\n",
              "      <td>2.015116</td>\n",
              "      <td>1.090227</td>\n",
              "      <td>1.468599</td>\n",
              "      <td>2.382019</td>\n",
              "    </tr>\n",
              "    <tr>\n",
              "      <th>19198</th>\n",
              "      <td>19198</td>\n",
              "      <td>54247.379</td>\n",
              "      <td>216</td>\n",
              "      <td>215.353516</td>\n",
              "      <td>0.048611</td>\n",
              "      <td>-35.413639</td>\n",
              "      <td>-28.528139</td>\n",
              "      <td>1.916172</td>\n",
              "      <td>0.999381</td>\n",
              "      <td>1.497681</td>\n",
              "      <td>2.283976</td>\n",
              "    </tr>\n",
              "    <tr>\n",
              "      <th>19199</th>\n",
              "      <td>19199</td>\n",
              "      <td>54247.960</td>\n",
              "      <td>216</td>\n",
              "      <td>215.797363</td>\n",
              "      <td>0.063049</td>\n",
              "      <td>-35.693104</td>\n",
              "      <td>-28.132133</td>\n",
              "      <td>1.834771</td>\n",
              "      <td>0.995196</td>\n",
              "      <td>1.404114</td>\n",
              "      <td>2.237176</td>\n",
              "    </tr>\n",
              "  </tbody>\n",
              "</table>\n",
              "<p>19200 rows × 11 columns</p>\n",
              "</div>\n",
              "    <div class=\"colab-df-buttons\">\n",
              "\n",
              "  <div class=\"colab-df-container\">\n",
              "    <button class=\"colab-df-convert\" onclick=\"convertToInteractive('df-6e92f1bf-3dd6-4ea9-9c7b-9adec2729266')\"\n",
              "            title=\"Convert this dataframe to an interactive table.\"\n",
              "            style=\"display:none;\">\n",
              "\n",
              "  <svg xmlns=\"http://www.w3.org/2000/svg\" height=\"24px\" viewBox=\"0 -960 960 960\">\n",
              "    <path d=\"M120-120v-720h720v720H120Zm60-500h600v-160H180v160Zm220 220h160v-160H400v160Zm0 220h160v-160H400v160ZM180-400h160v-160H180v160Zm440 0h160v-160H620v160ZM180-180h160v-160H180v160Zm440 0h160v-160H620v160Z\"/>\n",
              "  </svg>\n",
              "    </button>\n",
              "\n",
              "  <style>\n",
              "    .colab-df-container {\n",
              "      display:flex;\n",
              "      gap: 12px;\n",
              "    }\n",
              "\n",
              "    .colab-df-convert {\n",
              "      background-color: #E8F0FE;\n",
              "      border: none;\n",
              "      border-radius: 50%;\n",
              "      cursor: pointer;\n",
              "      display: none;\n",
              "      fill: #1967D2;\n",
              "      height: 32px;\n",
              "      padding: 0 0 0 0;\n",
              "      width: 32px;\n",
              "    }\n",
              "\n",
              "    .colab-df-convert:hover {\n",
              "      background-color: #E2EBFA;\n",
              "      box-shadow: 0px 1px 2px rgba(60, 64, 67, 0.3), 0px 1px 3px 1px rgba(60, 64, 67, 0.15);\n",
              "      fill: #174EA6;\n",
              "    }\n",
              "\n",
              "    .colab-df-buttons div {\n",
              "      margin-bottom: 4px;\n",
              "    }\n",
              "\n",
              "    [theme=dark] .colab-df-convert {\n",
              "      background-color: #3B4455;\n",
              "      fill: #D2E3FC;\n",
              "    }\n",
              "\n",
              "    [theme=dark] .colab-df-convert:hover {\n",
              "      background-color: #434B5C;\n",
              "      box-shadow: 0px 1px 3px 1px rgba(0, 0, 0, 0.15);\n",
              "      filter: drop-shadow(0px 1px 2px rgba(0, 0, 0, 0.3));\n",
              "      fill: #FFFFFF;\n",
              "    }\n",
              "  </style>\n",
              "\n",
              "    <script>\n",
              "      const buttonEl =\n",
              "        document.querySelector('#df-6e92f1bf-3dd6-4ea9-9c7b-9adec2729266 button.colab-df-convert');\n",
              "      buttonEl.style.display =\n",
              "        google.colab.kernel.accessAllowed ? 'block' : 'none';\n",
              "\n",
              "      async function convertToInteractive(key) {\n",
              "        const element = document.querySelector('#df-6e92f1bf-3dd6-4ea9-9c7b-9adec2729266');\n",
              "        const dataTable =\n",
              "          await google.colab.kernel.invokeFunction('convertToInteractive',\n",
              "                                                    [key], {});\n",
              "        if (!dataTable) return;\n",
              "\n",
              "        const docLinkHtml = 'Like what you see? Visit the ' +\n",
              "          '<a target=\"_blank\" href=https://colab.research.google.com/notebooks/data_table.ipynb>data table notebook</a>'\n",
              "          + ' to learn more about interactive tables.';\n",
              "        element.innerHTML = '';\n",
              "        dataTable['output_type'] = 'display_data';\n",
              "        await google.colab.output.renderOutput(dataTable, element);\n",
              "        const docLink = document.createElement('div');\n",
              "        docLink.innerHTML = docLinkHtml;\n",
              "        element.appendChild(docLink);\n",
              "      }\n",
              "    </script>\n",
              "  </div>\n",
              "\n",
              "\n",
              "<div id=\"df-a34c9bbc-b226-47c7-9336-6cd7698be3cf\">\n",
              "  <button class=\"colab-df-quickchart\" onclick=\"quickchart('df-a34c9bbc-b226-47c7-9336-6cd7698be3cf')\"\n",
              "            title=\"Suggest charts\"\n",
              "            style=\"display:none;\">\n",
              "\n",
              "<svg xmlns=\"http://www.w3.org/2000/svg\" height=\"24px\"viewBox=\"0 0 24 24\"\n",
              "     width=\"24px\">\n",
              "    <g>\n",
              "        <path d=\"M19 3H5c-1.1 0-2 .9-2 2v14c0 1.1.9 2 2 2h14c1.1 0 2-.9 2-2V5c0-1.1-.9-2-2-2zM9 17H7v-7h2v7zm4 0h-2V7h2v10zm4 0h-2v-4h2v4z\"/>\n",
              "    </g>\n",
              "</svg>\n",
              "  </button>\n",
              "\n",
              "<style>\n",
              "  .colab-df-quickchart {\n",
              "      --bg-color: #E8F0FE;\n",
              "      --fill-color: #1967D2;\n",
              "      --hover-bg-color: #E2EBFA;\n",
              "      --hover-fill-color: #174EA6;\n",
              "      --disabled-fill-color: #AAA;\n",
              "      --disabled-bg-color: #DDD;\n",
              "  }\n",
              "\n",
              "  [theme=dark] .colab-df-quickchart {\n",
              "      --bg-color: #3B4455;\n",
              "      --fill-color: #D2E3FC;\n",
              "      --hover-bg-color: #434B5C;\n",
              "      --hover-fill-color: #FFFFFF;\n",
              "      --disabled-bg-color: #3B4455;\n",
              "      --disabled-fill-color: #666;\n",
              "  }\n",
              "\n",
              "  .colab-df-quickchart {\n",
              "    background-color: var(--bg-color);\n",
              "    border: none;\n",
              "    border-radius: 50%;\n",
              "    cursor: pointer;\n",
              "    display: none;\n",
              "    fill: var(--fill-color);\n",
              "    height: 32px;\n",
              "    padding: 0;\n",
              "    width: 32px;\n",
              "  }\n",
              "\n",
              "  .colab-df-quickchart:hover {\n",
              "    background-color: var(--hover-bg-color);\n",
              "    box-shadow: 0 1px 2px rgba(60, 64, 67, 0.3), 0 1px 3px 1px rgba(60, 64, 67, 0.15);\n",
              "    fill: var(--button-hover-fill-color);\n",
              "  }\n",
              "\n",
              "  .colab-df-quickchart-complete:disabled,\n",
              "  .colab-df-quickchart-complete:disabled:hover {\n",
              "    background-color: var(--disabled-bg-color);\n",
              "    fill: var(--disabled-fill-color);\n",
              "    box-shadow: none;\n",
              "  }\n",
              "\n",
              "  .colab-df-spinner {\n",
              "    border: 2px solid var(--fill-color);\n",
              "    border-color: transparent;\n",
              "    border-bottom-color: var(--fill-color);\n",
              "    animation:\n",
              "      spin 1s steps(1) infinite;\n",
              "  }\n",
              "\n",
              "  @keyframes spin {\n",
              "    0% {\n",
              "      border-color: transparent;\n",
              "      border-bottom-color: var(--fill-color);\n",
              "      border-left-color: var(--fill-color);\n",
              "    }\n",
              "    20% {\n",
              "      border-color: transparent;\n",
              "      border-left-color: var(--fill-color);\n",
              "      border-top-color: var(--fill-color);\n",
              "    }\n",
              "    30% {\n",
              "      border-color: transparent;\n",
              "      border-left-color: var(--fill-color);\n",
              "      border-top-color: var(--fill-color);\n",
              "      border-right-color: var(--fill-color);\n",
              "    }\n",
              "    40% {\n",
              "      border-color: transparent;\n",
              "      border-right-color: var(--fill-color);\n",
              "      border-top-color: var(--fill-color);\n",
              "    }\n",
              "    60% {\n",
              "      border-color: transparent;\n",
              "      border-right-color: var(--fill-color);\n",
              "    }\n",
              "    80% {\n",
              "      border-color: transparent;\n",
              "      border-right-color: var(--fill-color);\n",
              "      border-bottom-color: var(--fill-color);\n",
              "    }\n",
              "    90% {\n",
              "      border-color: transparent;\n",
              "      border-bottom-color: var(--fill-color);\n",
              "    }\n",
              "  }\n",
              "</style>\n",
              "\n",
              "  <script>\n",
              "    async function quickchart(key) {\n",
              "      const quickchartButtonEl =\n",
              "        document.querySelector('#' + key + ' button');\n",
              "      quickchartButtonEl.disabled = true;  // To prevent multiple clicks.\n",
              "      quickchartButtonEl.classList.add('colab-df-spinner');\n",
              "      try {\n",
              "        const charts = await google.colab.kernel.invokeFunction(\n",
              "            'suggestCharts', [key], {});\n",
              "      } catch (error) {\n",
              "        console.error('Error during call to suggestCharts:', error);\n",
              "      }\n",
              "      quickchartButtonEl.classList.remove('colab-df-spinner');\n",
              "      quickchartButtonEl.classList.add('colab-df-quickchart-complete');\n",
              "    }\n",
              "    (() => {\n",
              "      let quickchartButtonEl =\n",
              "        document.querySelector('#df-a34c9bbc-b226-47c7-9336-6cd7698be3cf button');\n",
              "      quickchartButtonEl.style.display =\n",
              "        google.colab.kernel.accessAllowed ? 'block' : 'none';\n",
              "    })();\n",
              "  </script>\n",
              "</div>\n",
              "    </div>\n",
              "  </div>\n"
            ],
            "application/vnd.google.colaboratory.intrinsic+json": {
              "type": "dataframe",
              "variable_name": "pd_dataset",
              "summary": "{\n  \"name\": \"pd_dataset\",\n  \"rows\": 19200,\n  \"fields\": [\n    {\n      \"column\": \"Unnamed: 0\",\n      \"properties\": {\n        \"dtype\": \"number\",\n        \"std\": 5542,\n        \"min\": 0,\n        \"max\": 19199,\n        \"num_unique_values\": 19200,\n        \"samples\": [\n          3234,\n          9459,\n          14698\n        ],\n        \"semantic_type\": \"\",\n        \"description\": \"\"\n      }\n    },\n    {\n      \"column\": \"time [s]\",\n      \"properties\": {\n        \"dtype\": \"number\",\n        \"std\": 9172.72963496537,\n        \"min\": 38570.683,\n        \"max\": 70921.969,\n        \"num_unique_values\": 19196,\n        \"samples\": [\n          58037.943,\n          69840.366,\n          57824.205\n        ],\n        \"semantic_type\": \"\",\n        \"description\": \"\"\n      }\n    },\n    {\n      \"column\": \"cfo_meas\",\n      \"properties\": {\n        \"dtype\": \"number\",\n        \"std\": 411,\n        \"min\": -1350,\n        \"max\": 720,\n        \"num_unique_values\": 113,\n        \"samples\": [\n          -1314,\n          -324,\n          54\n        ],\n        \"semantic_type\": \"\",\n        \"description\": \"\"\n      }\n    },\n    {\n      \"column\": \"cfo_demod\",\n      \"properties\": {\n        \"dtype\": \"number\",\n        \"std\": 412.65315235526083,\n        \"min\": -1362.15270996,\n        \"max\": 737.512390137,\n        \"num_unique_values\": 19191,\n        \"samples\": [\n          -412.818695068,\n          -199.721588135,\n          -494.857971191\n        ],\n        \"semantic_type\": \"\",\n        \"description\": \"\"\n      }\n    },\n    {\n      \"column\": \"gain_imb\",\n      \"properties\": {\n        \"dtype\": \"number\",\n        \"std\": 0.04680410232373226,\n        \"min\": -0.32138955593,\n        \"max\": 0.17638450861,\n        \"num_unique_values\": 17819,\n        \"samples\": [\n          -0.03364435211,\n          0.10175066441,\n          -0.02721820772\n        ],\n        \"semantic_type\": \"\",\n        \"description\": \"\"\n      }\n    },\n    {\n      \"column\": \"iq_imb\",\n      \"properties\": {\n        \"dtype\": \"number\",\n        \"std\": 5.399075398914595,\n        \"min\": -56.2497940063,\n        \"max\": -28.4151382446,\n        \"num_unique_values\": 19142,\n        \"samples\": [\n          -46.0571098328,\n          -29.5953178406,\n          -31.7976036072\n        ],\n        \"semantic_type\": \"\",\n        \"description\": \"\"\n      }\n    },\n    {\n      \"column\": \"or_off\",\n      \"properties\": {\n        \"dtype\": \"number\",\n        \"std\": 3.7192651765977067,\n        \"min\": -40.7760276794,\n        \"max\": -26.306427002,\n        \"num_unique_values\": 19137,\n        \"samples\": [\n          -30.361158371,\n          -35.894241333,\n          -28.0481510162\n        ],\n        \"semantic_type\": \"\",\n        \"description\": \"\"\n      }\n    },\n    {\n      \"column\": \"quadr_err\",\n      \"properties\": {\n        \"dtype\": \"number\",\n        \"std\": 2.51102751142705,\n        \"min\": -4.32929468155,\n        \"max\": 3.34028530121,\n        \"num_unique_values\": 19118,\n        \"samples\": [\n          2.51053857803,\n          1.10234749317,\n          1.230509758\n        ],\n        \"semantic_type\": \"\",\n        \"description\": \"\"\n      }\n    },\n    {\n      \"column\": \"ph_err\",\n      \"properties\": {\n        \"dtype\": \"number\",\n        \"std\": 0.24056164089043092,\n        \"min\": 0.85571557283,\n        \"max\": 11.439540863,\n        \"num_unique_values\": 19146,\n        \"samples\": [\n          1.52252030373,\n          1.42117905617,\n          1.1075104475\n        ],\n        \"semantic_type\": \"\",\n        \"description\": \"\"\n      }\n    },\n    {\n      \"column\": \"mag_err\",\n      \"properties\": {\n        \"dtype\": \"number\",\n        \"std\": 0.9359431151828042,\n        \"min\": 0.38708582521,\n        \"max\": 10.5958108902,\n        \"num_unique_values\": 19186,\n        \"samples\": [\n          1.00213134289,\n          0.85735309124,\n          1.60532999039\n        ],\n        \"semantic_type\": \"\",\n        \"description\": \"\"\n      }\n    },\n    {\n      \"column\": \"evm\",\n      \"properties\": {\n        \"dtype\": \"number\",\n        \"std\": 0.8016629971722896,\n        \"min\": 1.64537537098,\n        \"max\": 19.1529712677,\n        \"num_unique_values\": 19163,\n        \"samples\": [\n          2.95332407951,\n          3.36171388626,\n          1.95155072212\n        ],\n        \"semantic_type\": \"\",\n        \"description\": \"\"\n      }\n    }\n  ]\n}"
            }
          },
          "metadata": {},
          "execution_count": 7
        }
      ]
    },
    {
      "cell_type": "code",
      "source": [
        "pd_arr= np.asarray(pd_dataset)\n",
        "pd_arr"
      ],
      "metadata": {
        "id": "MbN6vlCRy5lx",
        "colab": {
          "base_uri": "https://localhost:8080/"
        },
        "outputId": "d8ee3137-e670-48c2-ab50-ad7189271f3c"
      },
      "execution_count": 8,
      "outputs": [
        {
          "output_type": "execute_result",
          "data": {
            "text/plain": [
              "array([[ 0.00000000e+00,  4.51815240e+04, -4.14000000e+02, ...,\n",
              "         1.12977779e+00,  4.40299451e-01,  2.05993533e+00],\n",
              "       [ 1.00000000e+00,  4.51821290e+04, -4.14000000e+02, ...,\n",
              "         1.05000997e+00,  4.31240499e-01,  1.81505251e+00],\n",
              "       [ 2.00000000e+00,  4.51825500e+04, -4.14000000e+02, ...,\n",
              "         9.89473283e-01,  4.47789669e-01,  1.76205266e+00],\n",
              "       ...,\n",
              "       [ 1.91970000e+04,  5.42467700e+04,  2.16000000e+02, ...,\n",
              "         1.09022748e+00,  1.46859932e+00,  2.38201904e+00],\n",
              "       [ 1.91980000e+04,  5.42473790e+04,  2.16000000e+02, ...,\n",
              "         9.99380708e-01,  1.49768138e+00,  2.28397584e+00],\n",
              "       [ 1.91990000e+04,  5.42479600e+04,  2.16000000e+02, ...,\n",
              "         9.95196104e-01,  1.40411401e+00,  2.23717594e+00]])"
            ]
          },
          "metadata": {},
          "execution_count": 8
        }
      ]
    },
    {
      "cell_type": "code",
      "source": [
        "scaler = StandardScaler()\n",
        "data_std = scaler.fit_transform(pd_arr[:,2:])\n",
        "data_std"
      ],
      "metadata": {
        "id": "O3StjE8tbY7R",
        "colab": {
          "base_uri": "https://localhost:8080/"
        },
        "outputId": "059db9bc-71ae-4389-882d-4ce8b9b13b0a"
      },
      "execution_count": 9,
      "outputs": [
        {
          "output_type": "execute_result",
          "data": {
            "text/plain": [
              "array([[-0.10218242, -0.11905909,  0.68430902, ..., -0.42776025,\n",
              "        -1.48754722, -0.97623555],\n",
              "       [-0.10218242, -0.12510636,  0.55147287, ..., -0.75935883,\n",
              "        -1.49722643, -1.28171204],\n",
              "       [-0.10218242, -0.11895637,  0.3717129 , ..., -1.01101267,\n",
              "        -1.47954415, -1.34782615],\n",
              "       ...,\n",
              "       [ 1.42819676,  1.42668032,  0.55546696, ..., -0.59217272,\n",
              "        -0.38884086, -0.57445562],\n",
              "       [ 1.42819676,  1.42326867,  0.09704912, ..., -0.96982704,\n",
              "        -0.35776759, -0.69675858],\n",
              "       [ 1.42819676,  1.4243443 ,  0.40553964, ..., -0.98722263,\n",
              "        -0.45774141, -0.75513862]])"
            ]
          },
          "metadata": {},
          "execution_count": 9
        }
      ]
    },
    {
      "cell_type": "code",
      "source": [
        "def initialize_clusters(features, k_clusters):\n",
        "\n",
        "    row_indexes = np.random.choice(features.shape[0], size = k_clusters , replace = False)\n",
        "\n",
        "    initial_clusters = features[row_indexes, :]\n",
        "\n",
        "    return initial_clusters"
      ],
      "metadata": {
        "id": "G45JiP6Lewdy"
      },
      "execution_count": 10,
      "outputs": []
    },
    {
      "cell_type": "code",
      "source": [
        "num_of_transmitter=30\n",
        "ini_clusters = initialize_clusters(data_std,num_of_transmitter)"
      ],
      "metadata": {
        "id": "v4-HXPxNfsey"
      },
      "execution_count": 11,
      "outputs": []
    },
    {
      "cell_type": "code",
      "source": [
        "def calculate_metric(features, centroid) :\n",
        "\n",
        "\n",
        "\n",
        "\n",
        "    distances_array = np.square(norm(features - centroid, axis = 1))\n",
        "\n",
        "\n",
        "    return distances_array"
      ],
      "metadata": {
        "id": "ABuivMaKglxs"
      },
      "execution_count": 12,
      "outputs": []
    },
    {
      "cell_type": "code",
      "source": [
        "calculate_metric(data_std, ini_clusters[1])"
      ],
      "metadata": {
        "id": "H4F8HMY2hD2u",
        "colab": {
          "base_uri": "https://localhost:8080/"
        },
        "outputId": "1a0f4014-d266-4cad-8317-eb9c6e9b496b"
      },
      "execution_count": 13,
      "outputs": [
        {
          "output_type": "execute_result",
          "data": {
            "text/plain": [
              "array([14.73287422, 16.8516446 , 18.4519149 , ...,  7.38929787,\n",
              "        7.91171624,  8.53559228])"
            ]
          },
          "metadata": {},
          "execution_count": 13
        }
      ]
    },
    {
      "cell_type": "code",
      "source": [
        "def compute_distances(features, centroids_points) :\n",
        "\n",
        "    distances_array = np.asarray([calculate_metric(features,centroid) for centroid in centroids_points])\n",
        "\n",
        "    return distances_array"
      ],
      "metadata": {
        "id": "Noh49xWDiOnT"
      },
      "execution_count": 14,
      "outputs": []
    },
    {
      "cell_type": "code",
      "source": [
        "distances = compute_distances(data_std,ini_clusters)"
      ],
      "metadata": {
        "id": "sPyL7WGIirF6"
      },
      "execution_count": 15,
      "outputs": []
    },
    {
      "cell_type": "code",
      "source": [
        "def assign_centroids(distances):\n",
        "\n",
        "\n",
        "    assigned_centroids = np.argmin(distances, axis = 0)\n",
        "\n",
        "    return assigned_centroids"
      ],
      "metadata": {
        "id": "L49-Mojbi8dj"
      },
      "execution_count": 16,
      "outputs": []
    },
    {
      "cell_type": "code",
      "source": [
        "assigned_centroid = assign_centroids(distances)\n",
        "\n",
        "assigned_centroid"
      ],
      "metadata": {
        "id": "Fm5FetPqjI78",
        "colab": {
          "base_uri": "https://localhost:8080/"
        },
        "outputId": "58f7d7d8-6a60-4f51-c5a1-6101abc5a62a"
      },
      "execution_count": 17,
      "outputs": [
        {
          "output_type": "execute_result",
          "data": {
            "text/plain": [
              "array([ 8, 17, 17, ..., 29, 27, 29])"
            ]
          },
          "metadata": {},
          "execution_count": 17
        }
      ]
    },
    {
      "cell_type": "code",
      "source": [
        "def calculate_objective(assigned_centroids, distances):\n",
        "\n",
        "    objective_function_value = 0.0\n",
        "    n = assigned_centroids.shape[0]\n",
        "    for i in range (n):\n",
        "      column = distances[:,i]\n",
        "      objective_function_value = objective_function_value + column[assigned_centroids[i]]\n",
        "\n",
        "    return objective_function_value"
      ],
      "metadata": {
        "id": "NGhcNIJLmnNs"
      },
      "execution_count": 18,
      "outputs": []
    },
    {
      "cell_type": "code",
      "source": [
        "calculate_objective(assigned_centroid,distances)"
      ],
      "metadata": {
        "id": "HhI47qLtnTdJ",
        "colab": {
          "base_uri": "https://localhost:8080/"
        },
        "outputId": "2113cdac-1136-4bd3-80ed-45f13a9e6f7e"
      },
      "execution_count": 19,
      "outputs": [
        {
          "output_type": "execute_result",
          "data": {
            "text/plain": [
              "23397.638869481492"
            ]
          },
          "metadata": {},
          "execution_count": 19
        }
      ]
    },
    {
      "cell_type": "code",
      "source": [
        "def calculate_new_centroids(features, assigned_centroids, k_clusters):\n",
        "\n",
        "    new_clusters = np.zeros((k_clusters, features.shape[1]))\n",
        "\n",
        "    for cluster_index in range(k_clusters):\n",
        "        cluster_indices = np.where(assigned_centroids == cluster_index)[0]\n",
        "\n",
        "        cluster_points = features[cluster_indices,:]\n",
        "\n",
        "        new_cluster_point = np.mean(cluster_points, axis=0)\n",
        "\n",
        "        new_clusters[cluster_index,:] = new_cluster_point\n",
        "\n",
        "    return new_clusters"
      ],
      "metadata": {
        "id": "2Q-a1sdOnlU9"
      },
      "execution_count": 20,
      "outputs": []
    },
    {
      "cell_type": "code",
      "source": [
        "calculate_new_centroids(data_std,assigned_centroid,num_of_transmitter)"
      ],
      "metadata": {
        "id": "adxOEmpToT5z",
        "colab": {
          "base_uri": "https://localhost:8080/"
        },
        "outputId": "83bcce81-1b21-47f0-d286-7f4809b5e135"
      },
      "execution_count": 21,
      "outputs": [
        {
          "output_type": "execute_result",
          "data": {
            "text/plain": [
              "array([[-0.3441535 , -0.35355551, -1.94659159,  1.02964227, -1.78692148,\n",
              "        -1.66058435,  1.22637101,  1.82224967,  1.77811561],\n",
              "       [-0.3370025 , -0.33466851, -0.00521641,  0.59906315, -0.02687878,\n",
              "         0.98340555,  0.22380727,  0.32149133,  0.30200902],\n",
              "       [-1.42808236, -1.4287817 ,  0.34115784, -0.73625599,  0.84221289,\n",
              "         0.31324603,  0.01900689, -0.89475841, -0.62896303],\n",
              "       [-0.00883835, -0.02549474,  0.8788694 ,  0.31877828,  0.64942546,\n",
              "         0.78557103, -0.06497477, -0.02075137, -0.08565944],\n",
              "       [-1.0602691 , -1.04208318,  1.05424792, -0.61798695,  0.78499934,\n",
              "         0.3209684 , -0.39100067, -0.88396052, -0.78570428],\n",
              "       [ 0.20058411,  0.22914237, -1.93673415,  1.06610434, -1.74993803,\n",
              "        -1.67233045,  1.92372681,  1.86567922,  2.12089279],\n",
              "       [-0.04164242, -0.04075663,  0.54042562, -0.57971879,  0.28850206,\n",
              "         0.36425895, -0.27732306, -0.78554876, -0.69596569],\n",
              "       [-1.52895759, -1.51918346,  0.80639969, -0.72717117,  0.85731978,\n",
              "         0.2947425 , -0.99253566, -0.92673174, -1.08988716],\n",
              "       [-0.10050987, -0.09593118,  0.81364152, -1.99092053,  1.07947814,\n",
              "        -0.08884233, -0.36809521, -1.44284051, -1.03229421],\n",
              "       [ 0.78598832,  0.78176624,  0.55041926,  0.65102748,  0.31531571,\n",
              "         1.01556443,  0.25652123,  0.38893564,  0.36987099],\n",
              "       [-1.32586348, -1.32465026, -0.09413668,  0.65392584, -0.25060881,\n",
              "         1.0259582 ,  0.65764899,  0.41085724,  0.540834  ],\n",
              "       [-0.11088566, -0.09995318, -1.30003749,  0.89925351, -1.34938045,\n",
              "        -1.54907515, -0.1098181 ,  0.81353725,  0.57673162],\n",
              "       [ 0.28281302,  0.28125723,  0.36859884, -2.15015758,  0.91293588,\n",
              "        -0.03784753, -0.61665975, -1.40931465, -1.14168163],\n",
              "       [-1.30984298, -1.30438621,  0.62783606, -0.70156443,  0.84737929,\n",
              "         0.31191042, -0.64664459, -0.90036023, -0.93422869],\n",
              "       [ 0.25980272,  0.26662913,  0.61635901,  0.53803693,  0.55565688,\n",
              "         0.93035379,  0.0478836 ,  0.23949567,  0.15082832],\n",
              "       [-0.2523732 , -0.26386601,  0.60952101, -1.70760838,  0.95702492,\n",
              "         0.02997502, -0.77136305, -1.34724345, -1.18989825],\n",
              "       [-1.55424146, -1.5625695 ,  0.99454877, -0.66657002,  0.8571804 ,\n",
              "         0.30624164, -0.20602991, -0.91140808, -0.72016503],\n",
              "       [-0.3311909 , -0.26154917,  0.26623347, -2.29855414,  1.07687421,\n",
              "        -0.05802361, -0.68127528, -1.42808737, -1.1776498 ],\n",
              "       [ 0.41404331,  0.40443509, -1.43192869,  1.04614999, -1.83822745,\n",
              "        -1.6825496 ,  1.18404518,  1.77329873,  1.706441  ],\n",
              "       [-0.11850646, -0.13108777, -1.313624  ,  0.99275542, -1.35307395,\n",
              "        -1.63241874,  0.26342434,  1.03261112,  0.88276608],\n",
              "       [-0.44356711, -0.44391353, -0.36062206,  0.70676305, -0.67740912,\n",
              "         1.06656439,  0.49415503,  0.49042068,  0.53270349],\n",
              "       [ 2.2211666 ,  2.21080793,  0.5863975 ,  0.12315401,  0.65849937,\n",
              "         0.67344037, -0.66579078, -0.25436744, -0.50439859],\n",
              "       [ 0.18718318,  0.26566368,  1.084616  ,  0.25115961,  0.53117144,\n",
              "         0.74592569, -0.19801747, -0.0727207 , -0.17167325],\n",
              "       [ 2.3486382 ,  2.3494169 ,  0.82345444,  0.16443732,  0.61604594,\n",
              "         0.6899719 , -0.46167472, -0.23379979, -0.40750775],\n",
              "       [ 0.2988357 ,  0.29216049, -1.20141301,  1.00702988, -1.38106162,\n",
              "        -1.64624387,  0.49892742,  1.15823844,  1.04262913],\n",
              "       [-0.38202318, -0.40869005,  1.1593951 , -0.19862094,  0.38167974,\n",
              "         0.49484643, -0.0034853 , -0.54313237, -0.42040692],\n",
              "       [-1.41152911, -1.42781753,  1.2537808 , -0.56474604,  0.83371541,\n",
              "         0.32860839,  0.33375462, -0.87726157, -0.45271529],\n",
              "       [ 1.89230276,  1.88845563,  0.16412324,  0.05674502,  0.72862558,\n",
              "         0.64831502, -0.69237384, -0.31427099, -0.56521777],\n",
              "       [ 2.32548031,  2.32502556,  0.28810729,  0.15946817,  0.62197821,\n",
              "         0.69917446, -0.32005376, -0.23250944, -0.35231244],\n",
              "       [ 1.64843411,  1.64215535,  0.5837329 , -0.02377836,  0.69983846,\n",
              "         0.60426768, -0.58460175, -0.40037874, -0.58055304]])"
            ]
          },
          "metadata": {},
          "execution_count": 21
        }
      ]
    },
    {
      "cell_type": "code",
      "source": [
        "def fit(features, k_clusters, n_of_iterations, error):\n",
        "    centroid_points = initialize_clusters(features, k_clusters)\n",
        "    last_objective = np.inf\n",
        "\n",
        "    for iteration in range(n_of_iterations):\n",
        "\n",
        "        distances = compute_distances(features, centroid_points)\n",
        "\n",
        "        assigned_centroids = assign_centroids(distances)\n",
        "\n",
        "        objective_value = calculate_objective(assigned_centroids, distances)\n",
        "\n",
        "        new_centroids = calculate_new_centroids(features, assigned_centroids, k_clusters)\n",
        "\n",
        "        if abs(objective_value - last_objective) < error:\n",
        "            break\n",
        "\n",
        "        centroid_points = new_centroids\n",
        "\n",
        "        last_objective = objective_value\n",
        "\n",
        "    return centroid_points, last_objective"
      ],
      "metadata": {
        "id": "u7iTm7WmohRp"
      },
      "execution_count": 22,
      "outputs": []
    },
    {
      "cell_type": "code",
      "source": [
        "fit(data_std, num_of_transmitter, 1000, 0.0001)"
      ],
      "metadata": {
        "id": "HPho7IhapUPq",
        "colab": {
          "base_uri": "https://localhost:8080/"
        },
        "outputId": "46377e3a-5794-4a55-db33-e5b82b84b0ab"
      },
      "execution_count": 23,
      "outputs": [
        {
          "output_type": "execute_result",
          "data": {
            "text/plain": [
              "(array([[ 1.59041858e+00,  1.58312508e+00,  9.22871149e-02,\n",
              "         -2.67698749e-02,  7.59963850e-01,  6.07640658e-01,\n",
              "         -7.33783079e-01, -3.96103989e-01, -6.40427084e-01],\n",
              "        [ 2.30367443e+00,  2.30364290e+00,  3.81001619e-01,\n",
              "          1.35349090e-01,  6.35698645e-01,  6.84457903e-01,\n",
              "         -5.73042259e-01, -2.40236401e-01, -4.60407583e-01],\n",
              "        [ 5.79442324e-01,  5.85377773e-01,  5.41904495e-01,\n",
              "         -6.98702263e-01,  2.41877308e-01,  3.18111211e-01,\n",
              "         -2.49602913e-01, -8.76334782e-01, -7.41190960e-01],\n",
              "        [-3.60391375e-01, -3.54954683e-01, -3.50876174e-02,\n",
              "          6.07417131e-01, -9.03640120e-02,  9.91348528e-01,\n",
              "          2.65784254e-01,  3.32648444e-01,  3.47013633e-01],\n",
              "        [ 1.59780567e+00,  1.58789862e+00,  5.81647622e-01,\n",
              "          1.09530277e-03,  7.60020316e-01,  6.11109026e-01,\n",
              "         -6.99571816e-01, -3.90953421e-01, -6.21869030e-01],\n",
              "        [ 1.98250021e+00,  1.96940145e+00,  7.96865381e-01,\n",
              "          1.23330752e-01,  7.14905597e-01,  6.68720283e-01,\n",
              "         -5.70912475e-01, -2.80202882e-01, -4.86222887e-01],\n",
              "        [ 2.33379676e+00,  2.32930883e+00,  8.67035124e-01,\n",
              "          1.59296174e-01,  6.19243329e-01,  6.86178494e-01,\n",
              "         -4.90561715e-01, -2.37635965e-01, -4.20815053e-01],\n",
              "        [-4.66411682e-02, -3.90626043e-02, -1.26758939e+00,\n",
              "          9.10717938e-01, -1.34866637e+00, -1.55936387e+00,\n",
              "         -6.46639489e-02,  8.27948031e-01,  6.03077940e-01],\n",
              "        [ 1.94609193e+00,  1.94528034e+00,  3.33266575e-01,\n",
              "          9.06325212e-02,  7.27179871e-01,  6.62116950e-01,\n",
              "         -6.11917094e-01, -2.93789703e-01, -5.21953285e-01],\n",
              "        [-1.45070836e+00, -1.45308974e+00,  1.17685252e+00,\n",
              "         -6.21808416e-01,  8.52267207e-01,  3.12491274e-01,\n",
              "         -6.80382234e-02, -9.03729633e-01, -6.59395842e-01],\n",
              "        [ 1.18825094e-01,  1.16249625e-01,  3.57443258e-01,\n",
              "         -1.65298234e+00,  1.56451457e-01,  7.36765998e-02,\n",
              "         -6.62147724e-01, -1.28839965e+00, -1.12827476e+00],\n",
              "        [-4.42266678e-01, -4.60488933e-01,  6.89563275e-01,\n",
              "         -4.42782548e-01,  3.48838823e-01,  4.07808043e-01,\n",
              "         -2.12829300e-01, -7.02335503e-01, -6.12195857e-01],\n",
              "        [ 4.79891262e-01,  4.87420280e-01, -1.77758305e+00,\n",
              "          1.07637843e+00, -1.81441068e+00, -1.70844325e+00,\n",
              "          1.20887760e+00,  1.83193642e+00,  1.76954076e+00],\n",
              "        [ 7.26060063e-01,  7.24332431e-01,  5.66531847e-01,\n",
              "          6.43795003e-01,  3.50723502e-01,  1.00774143e+00,\n",
              "          2.12733281e-01,  3.76376188e-01,  3.21567673e-01],\n",
              "        [-4.92567318e-01, -4.93542599e-01, -3.53759894e-01,\n",
              "          7.07003447e-01, -6.84475097e-01,  1.06698739e+00,\n",
              "          5.25917249e-01,  4.91604567e-01,  5.45787101e-01],\n",
              "        [ 3.48117636e-01,  3.50987578e-01, -1.26974059e+00,\n",
              "          1.01527720e+00, -1.29051944e+00, -1.65320629e+00,\n",
              "          2.29570352e-01,  1.00913139e+00,  8.61592752e-01],\n",
              "        [-7.69310093e-02, -7.60252671e-02, -1.34765044e+00,\n",
              "          1.01482227e+00, -1.78964038e+00, -1.64757207e+00,\n",
              "          1.30684367e+00,  1.73944128e+00,  1.71954471e+00],\n",
              "        [ 3.25452440e-01,  3.31219761e-01,  4.97172469e-01,\n",
              "         -2.24877420e+00,  1.07480238e+00, -7.69608347e-02,\n",
              "         -6.12125985e-01, -1.44640978e+00, -1.15049739e+00],\n",
              "        [-1.36375301e+00, -1.36244660e+00, -8.68214552e-02,\n",
              "          6.55053312e-01, -2.35479475e-01,  1.02597062e+00,\n",
              "          6.01148242e-01,  4.10538901e-01,  5.14450195e-01],\n",
              "        [-2.62834903e-01, -2.67722171e-01, -2.10032095e+00,\n",
              "          1.04205216e+00, -1.78396605e+00, -1.67227277e+00,\n",
              "          1.16396351e+00,  1.84960647e+00,  1.78144455e+00],\n",
              "        [-3.15342373e-01, -2.86859284e-01, -2.68717527e-01,\n",
              "          1.02431135e-01, -2.43868426e-01, -2.12003700e-01,\n",
              "          1.91666128e+01,  1.10063268e+00,  9.60413326e+00],\n",
              "        [-1.38749412e+00, -1.38775110e+00,  5.49422852e-01,\n",
              "         -7.11330070e-01,  8.51488763e-01,  3.12584641e-01,\n",
              "         -1.59820088e-01, -8.96936281e-01, -6.96784109e-01],\n",
              "        [-4.63721197e-01, -4.74239310e-01, -1.27541192e+00,\n",
              "          9.05076155e-01, -1.35436136e+00, -1.55462817e+00,\n",
              "         -1.87672768e-02,  8.16343019e-01,  6.06017544e-01],\n",
              "        [-1.27021198e+00, -1.25661036e+00,  8.02929349e-01,\n",
              "         -6.78754772e-01,  8.46509186e-01,  3.11654830e-01,\n",
              "         -8.64411531e-01, -8.99437840e-01, -1.02296553e+00],\n",
              "        [-1.36775917e-01, -1.29280810e-01,  1.05581428e+00,\n",
              "         -9.55793203e-02,  3.97985269e-01,  5.45800118e-01,\n",
              "         -1.00265737e-01, -4.44307147e-01, -4.02282442e-01],\n",
              "        [-1.74618307e+00, -1.74637938e+00,  8.48578503e-01,\n",
              "         -7.47621120e-01,  8.67903476e-01,  2.85425149e-01,\n",
              "         -7.07083826e-01, -9.47156593e-01, -9.68520344e-01],\n",
              "        [ 9.51201207e-02,  9.62120424e-02,  4.64414819e-01,\n",
              "          4.67009989e-01,  6.50492895e-01,  8.84258063e-01,\n",
              "         -4.20927727e-02,  1.57864237e-01,  5.27493509e-02],\n",
              "        [ 1.18214171e-01,  1.12943761e-01,  9.79425851e-01,\n",
              "          5.00401245e-01,  6.30225441e-01,  8.97098395e-01,\n",
              "          3.31969508e-02,  1.77582317e-01,  9.97200004e-02],\n",
              "        [-2.88320138e-01, -2.88239102e-01,  5.07156519e-01,\n",
              "         -1.89278138e+00,  1.05573145e+00, -3.92230673e-03,\n",
              "         -7.12199404e-01, -1.38570199e+00, -1.17627798e+00],\n",
              "        [-5.01117189e-02, -5.31055651e-02,  5.30510541e-01,\n",
              "         -7.35266515e-01,  2.88965630e-01,  3.06623004e-01,\n",
              "         -4.09584275e-01, -8.91776377e-01, -8.20703364e-01]]),\n",
              " 8475.109867861136)"
            ]
          },
          "metadata": {},
          "execution_count": 23
        }
      ]
    },
    {
      "cell_type": "code",
      "source": [
        "num_of_transmitters = range(2, 35)\n",
        "all_objective = []\n",
        "for i in num_of_transmitters:\n",
        "  all_objective.append(fit(data_std, i, 100, 0.001)[1])"
      ],
      "metadata": {
        "id": "U2e739Oxpwwt"
      },
      "execution_count": 24,
      "outputs": []
    },
    {
      "cell_type": "code",
      "source": [
        "plt.figure()\n",
        "plt.plot(num_of_transmitters, all_objective)\n",
        "plt.xlabel('Number of Wireless Transmitters')\n",
        "plt.ylabel('Objective function values')"
      ],
      "metadata": {
        "id": "b1AiETItrptu",
        "colab": {
          "base_uri": "https://localhost:8080/",
          "height": 466
        },
        "outputId": "910bc057-1c05-4357-c642-1051ca480211"
      },
      "execution_count": 25,
      "outputs": [
        {
          "output_type": "execute_result",
          "data": {
            "text/plain": [
              "Text(0, 0.5, 'Objective function values')"
            ]
          },
          "metadata": {},
          "execution_count": 25
        },
        {
          "output_type": "display_data",
          "data": {
            "text/plain": [
              "<Figure size 640x480 with 1 Axes>"
            ],
            "image/png": "[encoded data removed]"
          },
          "metadata": {}
        }
      ]
    },
    {
      "cell_type": "code",
      "source": [
        "def plot_silhouette_scores(data, k_range):\n",
        "    silhouette_scores = []\n",
        "\n",
        "    for k in k_range:\n",
        "        kmeans = KMeans(n_clusters=k, random_state=42,n_init=10)\n",
        "        cluster_labels = kmeans.fit_predict(data)\n",
        "\n",
        "        silhouette_avg = silhouette_score(data, cluster_labels)\n",
        "        silhouette_scores.append(silhouette_avg)\n",
        "\n",
        "    plt.plot(k_range, silhouette_scores, marker='o')\n",
        "    plt.xlabel('Number of Wireless Transmitters')\n",
        "    plt.ylabel('Silhouette score')\n",
        "    plt.title('Silhouette Method for determining the number of wireless transmitters')\n",
        "    plt.grid(True)\n",
        "    plt.show()"
      ],
      "metadata": {
        "id": "tYZq7RsvvYVj"
      },
      "execution_count": 26,
      "outputs": []
    },
    {
      "cell_type": "code",
      "source": [
        "num_of_transmitters = range(2, 35)\n",
        "plot_silhouette_scores(data_std, num_of_transmitters)"
      ],
      "metadata": {
        "id": "teYQg08TfVf5",
        "colab": {
          "base_uri": "https://localhost:8080/",
          "height": 472
        },
        "outputId": "9959f932-5a27-4234-df96-028f58105770"
      },
      "execution_count": 27,
      "outputs": [
        {
          "output_type": "display_data",
          "data": {
            "text/plain": [
              "<Figure size 640x480 with 1 Axes>"
            ],
            "image/png": "[encoded data removed]"
          },
          "metadata": {}
        }
      ]
    }
  ]
}