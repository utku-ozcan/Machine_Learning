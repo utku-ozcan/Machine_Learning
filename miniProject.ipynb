{
  "nbformat": 4,
  "nbformat_minor": 0,
  "metadata": {
    "colab": {
      "provenance": [],
      "gpuType": "T4",
      "include_colab_link": true
    },
    "kernelspec": {
      "name": "python3",
      "display_name": "Python 3"
    },
    "language_info": {
      "name": "python"
    },
    "accelerator": "GPU"
  },
  "cells": [
    {
      "cell_type": "markdown",
      "metadata": {
        "id": "view-in-github",
        "colab_type": "text"
      },
      "source": [
        "<a href=\"https://colab.research.google.com/github/utku-ozcan/Machine_Learning/blob/main/miniProject.ipynb\" target=\"_parent\"><img src=\"https://colab.research.google.com/assets/colab-badge.svg\" alt=\"Open In Colab\"/></a>"
      ]
    },
    {
      "cell_type": "code",
      "source": [
        "from tensorflow import keras\n",
        "from keras.models import Sequential\n",
        "from keras.datasets import mnist\n",
        "import numpy as np\n",
        "import pandas as pd\n",
        "import tensorflow as tf\n",
        "from keras.optimizers import SGD\n",
        "from keras.datasets import cifar10\n",
        "from keras.utils import to_categorical\n",
        "import matplotlib.pyplot as plt\n",
        "import cv2\n",
        "from sklearn.preprocessing import StandardScaler\n",
        "from numpy.linalg import norm\n",
        "from sklearn.cluster import KMeans\n",
        "from sklearn.metrics import silhouette_score"
      ],
      "metadata": {
        "id": "GxRTJm4zq5zO"
      },
      "execution_count": 33,
      "outputs": []
    },
    {
      "cell_type": "code",
      "source": [
        "path_to_dataset = '/content/drive/MyDrive/Data_prepared_final.csv'\n",
        "pd_dataset = pd.read_csv(path_to_dataset)"
      ],
      "metadata": {
        "id": "I2L2IzyKhE9r"
      },
      "execution_count": null,
      "outputs": []
    },
    {
      "cell_type": "code",
      "source": [
        "pd_dataset"
      ],
      "metadata": {
        "colab": {
          "base_uri": "https://localhost:8080/",
          "height": 423
        },
        "id": "mas70QKdyY-5",
        "outputId": "84a6fae2-f015-49ad-91f3-5e8a474595e7"
      },
      "execution_count": null,
      "outputs": [
        {
          "output_type": "execute_result",
          "data": {
            "text/plain": [
              "       Unnamed: 0   time [s]  cfo_meas   cfo_demod  gain_imb     iq_imb  \\\n",
              "0               0  45181.524      -414 -421.076324  0.076097 -46.987598   \n",
              "1               1  45182.129      -414 -423.571686  0.069879 -47.852627   \n",
              "2               2  45182.550      -414 -421.033936  0.061466 -48.968697   \n",
              "3               3  45182.971      -414 -420.103546  0.078836 -46.756973   \n",
              "4               4  45183.551      -432 -420.781097  0.066053 -47.048218   \n",
              "...           ...        ...       ...         ...       ...        ...   \n",
              "19195       19195  54245.724       216  215.584991  0.077551 -35.409054   \n",
              "19196       19196  54246.340       216  215.247406  0.044961 -35.508205   \n",
              "19197       19197  54246.770       216  216.761307  0.070066 -35.038486   \n",
              "19198       19198  54247.379       216  215.353516  0.048611 -35.413639   \n",
              "19199       19199  54247.960       216  215.797363  0.063049 -35.693104   \n",
              "\n",
              "          or_off  quadr_err    ph_err   mag_err       evm  \n",
              "0     -27.219631   0.104362  1.129778  0.440299  2.059935  \n",
              "1     -26.934967   0.053158  1.050010  0.431240  1.815053  \n",
              "2     -27.130722  -0.045913  0.989473  0.447790  1.762053  \n",
              "3     -27.005318   0.081583  1.085091  0.443476  1.894204  \n",
              "4     -27.358521   0.081920  1.023701  0.465225  1.805841  \n",
              "...          ...        ...       ...       ...       ...  \n",
              "19195 -28.611925   1.875334  0.999375  1.427339  2.248822  \n",
              "19196 -27.954048   1.898758  1.031501  1.478366  2.320668  \n",
              "19197 -28.467575   2.015116  1.090227  1.468599  2.382019  \n",
              "19198 -28.528139   1.916172  0.999381  1.497681  2.283976  \n",
              "19199 -28.132133   1.834771  0.995196  1.404114  2.237176  \n",
              "\n",
              "[19200 rows x 11 columns]"
            ],
            "text/html": [
              "\n",
              "  <div id=\"df-3d1cc905-c52d-4822-b521-0898e4e42033\" class=\"colab-df-container\">\n",
              "    <div>\n",
              "<style scoped>\n",
              "    .dataframe tbody tr th:only-of-type {\n",
              "        vertical-align: middle;\n",
              "    }\n",
              "\n",
              "    .dataframe tbody tr th {\n",
              "        vertical-align: top;\n",
              "    }\n",
              "\n",
              "    .dataframe thead th {\n",
              "        text-align: right;\n",
              "    }\n",
              "</style>\n",
              "<table border=\"1\" class=\"dataframe\">\n",
              "  <thead>\n",
              "    <tr style=\"text-align: right;\">\n",
              "      <th></th>\n",
              "      <th>Unnamed: 0</th>\n",
              "      <th>time [s]</th>\n",
              "      <th>cfo_meas</th>\n",
              "      <th>cfo_demod</th>\n",
              "      <th>gain_imb</th>\n",
              "      <th>iq_imb</th>\n",
              "      <th>or_off</th>\n",
              "      <th>quadr_err</th>\n",
              "      <th>ph_err</th>\n",
              "      <th>mag_err</th>\n",
              "      <th>evm</th>\n",
              "    </tr>\n",
              "  </thead>\n",
              "  <tbody>\n",
              "    <tr>\n",
              "      <th>0</th>\n",
              "      <td>0</td>\n",
              "      <td>45181.524</td>\n",
              "      <td>-414</td>\n",
              "      <td>-421.076324</td>\n",
              "      <td>0.076097</td>\n",
              "      <td>-46.987598</td>\n",
              "      <td>-27.219631</td>\n",
              "      <td>0.104362</td>\n",
              "      <td>1.129778</td>\n",
              "      <td>0.440299</td>\n",
              "      <td>2.059935</td>\n",
              "    </tr>\n",
              "    <tr>\n",
              "      <th>1</th>\n",
              "      <td>1</td>\n",
              "      <td>45182.129</td>\n",
              "      <td>-414</td>\n",
              "      <td>-423.571686</td>\n",
              "      <td>0.069879</td>\n",
              "      <td>-47.852627</td>\n",
              "      <td>-26.934967</td>\n",
              "      <td>0.053158</td>\n",
              "      <td>1.050010</td>\n",
              "      <td>0.431240</td>\n",
              "      <td>1.815053</td>\n",
              "    </tr>\n",
              "    <tr>\n",
              "      <th>2</th>\n",
              "      <td>2</td>\n",
              "      <td>45182.550</td>\n",
              "      <td>-414</td>\n",
              "      <td>-421.033936</td>\n",
              "      <td>0.061466</td>\n",
              "      <td>-48.968697</td>\n",
              "      <td>-27.130722</td>\n",
              "      <td>-0.045913</td>\n",
              "      <td>0.989473</td>\n",
              "      <td>0.447790</td>\n",
              "      <td>1.762053</td>\n",
              "    </tr>\n",
              "    <tr>\n",
              "      <th>3</th>\n",
              "      <td>3</td>\n",
              "      <td>45182.971</td>\n",
              "      <td>-414</td>\n",
              "      <td>-420.103546</td>\n",
              "      <td>0.078836</td>\n",
              "      <td>-46.756973</td>\n",
              "      <td>-27.005318</td>\n",
              "      <td>0.081583</td>\n",
              "      <td>1.085091</td>\n",
              "      <td>0.443476</td>\n",
              "      <td>1.894204</td>\n",
              "    </tr>\n",
              "    <tr>\n",
              "      <th>4</th>\n",
              "      <td>4</td>\n",
              "      <td>45183.551</td>\n",
              "      <td>-432</td>\n",
              "      <td>-420.781097</td>\n",
              "      <td>0.066053</td>\n",
              "      <td>-47.048218</td>\n",
              "      <td>-27.358521</td>\n",
              "      <td>0.081920</td>\n",
              "      <td>1.023701</td>\n",
              "      <td>0.465225</td>\n",
              "      <td>1.805841</td>\n",
              "    </tr>\n",
              "    <tr>\n",
              "      <th>...</th>\n",
              "      <td>...</td>\n",
              "      <td>...</td>\n",
              "      <td>...</td>\n",
              "      <td>...</td>\n",
              "      <td>...</td>\n",
              "      <td>...</td>\n",
              "      <td>...</td>\n",
              "      <td>...</td>\n",
              "      <td>...</td>\n",
              "      <td>...</td>\n",
              "      <td>...</td>\n",
              "    </tr>\n",
              "    <tr>\n",
              "      <th>19195</th>\n",
              "      <td>19195</td>\n",
              "      <td>54245.724</td>\n",
              "      <td>216</td>\n",
              "      <td>215.584991</td>\n",
              "      <td>0.077551</td>\n",
              "      <td>-35.409054</td>\n",
              "      <td>-28.611925</td>\n",
              "      <td>1.875334</td>\n",
              "      <td>0.999375</td>\n",
              "      <td>1.427339</td>\n",
              "      <td>2.248822</td>\n",
              "    </tr>\n",
              "    <tr>\n",
              "      <th>19196</th>\n",
              "      <td>19196</td>\n",
              "      <td>54246.340</td>\n",
              "      <td>216</td>\n",
              "      <td>215.247406</td>\n",
              "      <td>0.044961</td>\n",
              "      <td>-35.508205</td>\n",
              "      <td>-27.954048</td>\n",
              "      <td>1.898758</td>\n",
              "      <td>1.031501</td>\n",
              "      <td>1.478366</td>\n",
              "      <td>2.320668</td>\n",
              "    </tr>\n",
              "    <tr>\n",
              "      <th>19197</th>\n",
              "      <td>19197</td>\n",
              "      <td>54246.770</td>\n",
              "      <td>216</td>\n",
              "      <td>216.761307</td>\n",
              "      <td>0.070066</td>\n",
              "      <td>-35.038486</td>\n",
              "      <td>-28.467575</td>\n",
              "      <td>2.015116</td>\n",
              "      <td>1.090227</td>\n",
              "      <td>1.468599</td>\n",
              "      <td>2.382019</td>\n",
              "    </tr>\n",
              "    <tr>\n",
              "      <th>19198</th>\n",
              "      <td>19198</td>\n",
              "      <td>54247.379</td>\n",
              "      <td>216</td>\n",
              "      <td>215.353516</td>\n",
              "      <td>0.048611</td>\n",
              "      <td>-35.413639</td>\n",
              "      <td>-28.528139</td>\n",
              "      <td>1.916172</td>\n",
              "      <td>0.999381</td>\n",
              "      <td>1.497681</td>\n",
              "      <td>2.283976</td>\n",
              "    </tr>\n",
              "    <tr>\n",
              "      <th>19199</th>\n",
              "      <td>19199</td>\n",
              "      <td>54247.960</td>\n",
              "      <td>216</td>\n",
              "      <td>215.797363</td>\n",
              "      <td>0.063049</td>\n",
              "      <td>-35.693104</td>\n",
              "      <td>-28.132133</td>\n",
              "      <td>1.834771</td>\n",
              "      <td>0.995196</td>\n",
              "      <td>1.404114</td>\n",
              "      <td>2.237176</td>\n",
              "    </tr>\n",
              "  </tbody>\n",
              "</table>\n",
              "<p>19200 rows × 11 columns</p>\n",
              "</div>\n",
              "    <div class=\"colab-df-buttons\">\n",
              "\n",
              "  <div class=\"colab-df-container\">\n",
              "    <button class=\"colab-df-convert\" onclick=\"convertToInteractive('df-3d1cc905-c52d-4822-b521-0898e4e42033')\"\n",
              "            title=\"Convert this dataframe to an interactive table.\"\n",
              "            style=\"display:none;\">\n",
              "\n",
              "  <svg xmlns=\"http://www.w3.org/2000/svg\" height=\"24px\" viewBox=\"0 -960 960 960\">\n",
              "    <path d=\"M120-120v-720h720v720H120Zm60-500h600v-160H180v160Zm220 220h160v-160H400v160Zm0 220h160v-160H400v160ZM180-400h160v-160H180v160Zm440 0h160v-160H620v160ZM180-180h160v-160H180v160Zm440 0h160v-160H620v160Z\"/>\n",
              "  </svg>\n",
              "    </button>\n",
              "\n",
              "  <style>\n",
              "    .colab-df-container {\n",
              "      display:flex;\n",
              "      gap: 12px;\n",
              "    }\n",
              "\n",
              "    .colab-df-convert {\n",
              "      background-color: #E8F0FE;\n",
              "      border: none;\n",
              "      border-radius: 50%;\n",
              "      cursor: pointer;\n",
              "      display: none;\n",
              "      fill: #1967D2;\n",
              "      height: 32px;\n",
              "      padding: 0 0 0 0;\n",
              "      width: 32px;\n",
              "    }\n",
              "\n",
              "    .colab-df-convert:hover {\n",
              "      background-color: #E2EBFA;\n",
              "      box-shadow: 0px 1px 2px rgba(60, 64, 67, 0.3), 0px 1px 3px 1px rgba(60, 64, 67, 0.15);\n",
              "      fill: #174EA6;\n",
              "    }\n",
              "\n",
              "    .colab-df-buttons div {\n",
              "      margin-bottom: 4px;\n",
              "    }\n",
              "\n",
              "    [theme=dark] .colab-df-convert {\n",
              "      background-color: #3B4455;\n",
              "      fill: #D2E3FC;\n",
              "    }\n",
              "\n",
              "    [theme=dark] .colab-df-convert:hover {\n",
              "      background-color: #434B5C;\n",
              "      box-shadow: 0px 1px 3px 1px rgba(0, 0, 0, 0.15);\n",
              "      filter: drop-shadow(0px 1px 2px rgba(0, 0, 0, 0.3));\n",
              "      fill: #FFFFFF;\n",
              "    }\n",
              "  </style>\n",
              "\n",
              "    <script>\n",
              "      const buttonEl =\n",
              "        document.querySelector('#df-3d1cc905-c52d-4822-b521-0898e4e42033 button.colab-df-convert');\n",
              "      buttonEl.style.display =\n",
              "        google.colab.kernel.accessAllowed ? 'block' : 'none';\n",
              "\n",
              "      async function convertToInteractive(key) {\n",
              "        const element = document.querySelector('#df-3d1cc905-c52d-4822-b521-0898e4e42033');\n",
              "        const dataTable =\n",
              "          await google.colab.kernel.invokeFunction('convertToInteractive',\n",
              "                                                    [key], {});\n",
              "        if (!dataTable) return;\n",
              "\n",
              "        const docLinkHtml = 'Like what you see? Visit the ' +\n",
              "          '<a target=\"_blank\" href=https://colab.research.google.com/notebooks/data_table.ipynb>data table notebook</a>'\n",
              "          + ' to learn more about interactive tables.';\n",
              "        element.innerHTML = '';\n",
              "        dataTable['output_type'] = 'display_data';\n",
              "        await google.colab.output.renderOutput(dataTable, element);\n",
              "        const docLink = document.createElement('div');\n",
              "        docLink.innerHTML = docLinkHtml;\n",
              "        element.appendChild(docLink);\n",
              "      }\n",
              "    </script>\n",
              "  </div>\n",
              "\n",
              "\n",
              "<div id=\"df-8854a0ad-8585-44db-a244-639c50f82fa7\">\n",
              "  <button class=\"colab-df-quickchart\" onclick=\"quickchart('df-8854a0ad-8585-44db-a244-639c50f82fa7')\"\n",
              "            title=\"Suggest charts\"\n",
              "            style=\"display:none;\">\n",
              "\n",
              "<svg xmlns=\"http://www.w3.org/2000/svg\" height=\"24px\"viewBox=\"0 0 24 24\"\n",
              "     width=\"24px\">\n",
              "    <g>\n",
              "        <path d=\"M19 3H5c-1.1 0-2 .9-2 2v14c0 1.1.9 2 2 2h14c1.1 0 2-.9 2-2V5c0-1.1-.9-2-2-2zM9 17H7v-7h2v7zm4 0h-2V7h2v10zm4 0h-2v-4h2v4z\"/>\n",
              "    </g>\n",
              "</svg>\n",
              "  </button>\n",
              "\n",
              "<style>\n",
              "  .colab-df-quickchart {\n",
              "      --bg-color: #E8F0FE;\n",
              "      --fill-color: #1967D2;\n",
              "      --hover-bg-color: #E2EBFA;\n",
              "      --hover-fill-color: #174EA6;\n",
              "      --disabled-fill-color: #AAA;\n",
              "      --disabled-bg-color: #DDD;\n",
              "  }\n",
              "\n",
              "  [theme=dark] .colab-df-quickchart {\n",
              "      --bg-color: #3B4455;\n",
              "      --fill-color: #D2E3FC;\n",
              "      --hover-bg-color: #434B5C;\n",
              "      --hover-fill-color: #FFFFFF;\n",
              "      --disabled-bg-color: #3B4455;\n",
              "      --disabled-fill-color: #666;\n",
              "  }\n",
              "\n",
              "  .colab-df-quickchart {\n",
              "    background-color: var(--bg-color);\n",
              "    border: none;\n",
              "    border-radius: 50%;\n",
              "    cursor: pointer;\n",
              "    display: none;\n",
              "    fill: var(--fill-color);\n",
              "    height: 32px;\n",
              "    padding: 0;\n",
              "    width: 32px;\n",
              "  }\n",
              "\n",
              "  .colab-df-quickchart:hover {\n",
              "    background-color: var(--hover-bg-color);\n",
              "    box-shadow: 0 1px 2px rgba(60, 64, 67, 0.3), 0 1px 3px 1px rgba(60, 64, 67, 0.15);\n",
              "    fill: var(--button-hover-fill-color);\n",
              "  }\n",
              "\n",
              "  .colab-df-quickchart-complete:disabled,\n",
              "  .colab-df-quickchart-complete:disabled:hover {\n",
              "    background-color: var(--disabled-bg-color);\n",
              "    fill: var(--disabled-fill-color);\n",
              "    box-shadow: none;\n",
              "  }\n",
              "\n",
              "  .colab-df-spinner {\n",
              "    border: 2px solid var(--fill-color);\n",
              "    border-color: transparent;\n",
              "    border-bottom-color: var(--fill-color);\n",
              "    animation:\n",
              "      spin 1s steps(1) infinite;\n",
              "  }\n",
              "\n",
              "  @keyframes spin {\n",
              "    0% {\n",
              "      border-color: transparent;\n",
              "      border-bottom-color: var(--fill-color);\n",
              "      border-left-color: var(--fill-color);\n",
              "    }\n",
              "    20% {\n",
              "      border-color: transparent;\n",
              "      border-left-color: var(--fill-color);\n",
              "      border-top-color: var(--fill-color);\n",
              "    }\n",
              "    30% {\n",
              "      border-color: transparent;\n",
              "      border-left-color: var(--fill-color);\n",
              "      border-top-color: var(--fill-color);\n",
              "      border-right-color: var(--fill-color);\n",
              "    }\n",
              "    40% {\n",
              "      border-color: transparent;\n",
              "      border-right-color: var(--fill-color);\n",
              "      border-top-color: var(--fill-color);\n",
              "    }\n",
              "    60% {\n",
              "      border-color: transparent;\n",
              "      border-right-color: var(--fill-color);\n",
              "    }\n",
              "    80% {\n",
              "      border-color: transparent;\n",
              "      border-right-color: var(--fill-color);\n",
              "      border-bottom-color: var(--fill-color);\n",
              "    }\n",
              "    90% {\n",
              "      border-color: transparent;\n",
              "      border-bottom-color: var(--fill-color);\n",
              "    }\n",
              "  }\n",
              "</style>\n",
              "\n",
              "  <script>\n",
              "    async function quickchart(key) {\n",
              "      const quickchartButtonEl =\n",
              "        document.querySelector('#' + key + ' button');\n",
              "      quickchartButtonEl.disabled = true;  // To prevent multiple clicks.\n",
              "      quickchartButtonEl.classList.add('colab-df-spinner');\n",
              "      try {\n",
              "        const charts = await google.colab.kernel.invokeFunction(\n",
              "            'suggestCharts', [key], {});\n",
              "      } catch (error) {\n",
              "        console.error('Error during call to suggestCharts:', error);\n",
              "      }\n",
              "      quickchartButtonEl.classList.remove('colab-df-spinner');\n",
              "      quickchartButtonEl.classList.add('colab-df-quickchart-complete');\n",
              "    }\n",
              "    (() => {\n",
              "      let quickchartButtonEl =\n",
              "        document.querySelector('#df-8854a0ad-8585-44db-a244-639c50f82fa7 button');\n",
              "      quickchartButtonEl.style.display =\n",
              "        google.colab.kernel.accessAllowed ? 'block' : 'none';\n",
              "    })();\n",
              "  </script>\n",
              "</div>\n",
              "    </div>\n",
              "  </div>\n"
            ],
            "application/vnd.google.colaboratory.intrinsic+json": {
              "type": "dataframe",
              "variable_name": "pd_dataset",
              "summary": "{\n  \"name\": \"pd_dataset\",\n  \"rows\": 19200,\n  \"fields\": [\n    {\n      \"column\": \"Unnamed: 0\",\n      \"properties\": {\n        \"dtype\": \"number\",\n        \"std\": 5542,\n        \"min\": 0,\n        \"max\": 19199,\n        \"num_unique_values\": 19200,\n        \"samples\": [\n          3234,\n          9459,\n          14698\n        ],\n        \"semantic_type\": \"\",\n        \"description\": \"\"\n      }\n    },\n    {\n      \"column\": \"time [s]\",\n      \"properties\": {\n        \"dtype\": \"number\",\n        \"std\": 9172.72963496537,\n        \"min\": 38570.683,\n        \"max\": 70921.969,\n        \"num_unique_values\": 19196,\n        \"samples\": [\n          58037.943,\n          69840.366,\n          57824.205\n        ],\n        \"semantic_type\": \"\",\n        \"description\": \"\"\n      }\n    },\n    {\n      \"column\": \"cfo_meas\",\n      \"properties\": {\n        \"dtype\": \"number\",\n        \"std\": 411,\n        \"min\": -1350,\n        \"max\": 720,\n        \"num_unique_values\": 113,\n        \"samples\": [\n          -1314,\n          -324,\n          54\n        ],\n        \"semantic_type\": \"\",\n        \"description\": \"\"\n      }\n    },\n    {\n      \"column\": \"cfo_demod\",\n      \"properties\": {\n        \"dtype\": \"number\",\n        \"std\": 412.65315235526083,\n        \"min\": -1362.15270996,\n        \"max\": 737.512390137,\n        \"num_unique_values\": 19191,\n        \"samples\": [\n          -412.818695068,\n          -199.721588135,\n          -494.857971191\n        ],\n        \"semantic_type\": \"\",\n        \"description\": \"\"\n      }\n    },\n    {\n      \"column\": \"gain_imb\",\n      \"properties\": {\n        \"dtype\": \"number\",\n        \"std\": 0.04680410232373226,\n        \"min\": -0.32138955593,\n        \"max\": 0.17638450861,\n        \"num_unique_values\": 17819,\n        \"samples\": [\n          -0.03364435211,\n          0.10175066441,\n          -0.02721820772\n        ],\n        \"semantic_type\": \"\",\n        \"description\": \"\"\n      }\n    },\n    {\n      \"column\": \"iq_imb\",\n      \"properties\": {\n        \"dtype\": \"number\",\n        \"std\": 5.399075398914595,\n        \"min\": -56.2497940063,\n        \"max\": -28.4151382446,\n        \"num_unique_values\": 19142,\n        \"samples\": [\n          -46.0571098328,\n          -29.5953178406,\n          -31.7976036072\n        ],\n        \"semantic_type\": \"\",\n        \"description\": \"\"\n      }\n    },\n    {\n      \"column\": \"or_off\",\n      \"properties\": {\n        \"dtype\": \"number\",\n        \"std\": 3.7192651765977067,\n        \"min\": -40.7760276794,\n        \"max\": -26.306427002,\n        \"num_unique_values\": 19137,\n        \"samples\": [\n          -30.361158371,\n          -35.894241333,\n          -28.0481510162\n        ],\n        \"semantic_type\": \"\",\n        \"description\": \"\"\n      }\n    },\n    {\n      \"column\": \"quadr_err\",\n      \"properties\": {\n        \"dtype\": \"number\",\n        \"std\": 2.51102751142705,\n        \"min\": -4.32929468155,\n        \"max\": 3.34028530121,\n        \"num_unique_values\": 19118,\n        \"samples\": [\n          2.51053857803,\n          1.10234749317,\n          1.230509758\n        ],\n        \"semantic_type\": \"\",\n        \"description\": \"\"\n      }\n    },\n    {\n      \"column\": \"ph_err\",\n      \"properties\": {\n        \"dtype\": \"number\",\n        \"std\": 0.24056164089043092,\n        \"min\": 0.85571557283,\n        \"max\": 11.439540863,\n        \"num_unique_values\": 19146,\n        \"samples\": [\n          1.52252030373,\n          1.42117905617,\n          1.1075104475\n        ],\n        \"semantic_type\": \"\",\n        \"description\": \"\"\n      }\n    },\n    {\n      \"column\": \"mag_err\",\n      \"properties\": {\n        \"dtype\": \"number\",\n        \"std\": 0.9359431151828042,\n        \"min\": 0.38708582521,\n        \"max\": 10.5958108902,\n        \"num_unique_values\": 19186,\n        \"samples\": [\n          1.00213134289,\n          0.85735309124,\n          1.60532999039\n        ],\n        \"semantic_type\": \"\",\n        \"description\": \"\"\n      }\n    },\n    {\n      \"column\": \"evm\",\n      \"properties\": {\n        \"dtype\": \"number\",\n        \"std\": 0.8016629971722896,\n        \"min\": 1.64537537098,\n        \"max\": 19.1529712677,\n        \"num_unique_values\": 19163,\n        \"samples\": [\n          2.95332407951,\n          3.36171388626,\n          1.95155072212\n        ],\n        \"semantic_type\": \"\",\n        \"description\": \"\"\n      }\n    }\n  ]\n}"
            }
          },
          "metadata": {},
          "execution_count": 13
        }
      ]
    },
    {
      "cell_type": "code",
      "source": [
        "pd_arr= np.asarray(pd_dataset)\n",
        "pd_arr"
      ],
      "metadata": {
        "colab": {
          "base_uri": "https://localhost:8080/"
        },
        "id": "MbN6vlCRy5lx",
        "outputId": "4379840e-1a40-4f46-f8ae-aef775457326"
      },
      "execution_count": null,
      "outputs": [
        {
          "output_type": "execute_result",
          "data": {
            "text/plain": [
              "array([[ 0.00000000e+00,  4.51815240e+04, -4.14000000e+02, ...,\n",
              "         1.12977779e+00,  4.40299451e-01,  2.05993533e+00],\n",
              "       [ 1.00000000e+00,  4.51821290e+04, -4.14000000e+02, ...,\n",
              "         1.05000997e+00,  4.31240499e-01,  1.81505251e+00],\n",
              "       [ 2.00000000e+00,  4.51825500e+04, -4.14000000e+02, ...,\n",
              "         9.89473283e-01,  4.47789669e-01,  1.76205266e+00],\n",
              "       ...,\n",
              "       [ 1.91970000e+04,  5.42467700e+04,  2.16000000e+02, ...,\n",
              "         1.09022748e+00,  1.46859932e+00,  2.38201904e+00],\n",
              "       [ 1.91980000e+04,  5.42473790e+04,  2.16000000e+02, ...,\n",
              "         9.99380708e-01,  1.49768138e+00,  2.28397584e+00],\n",
              "       [ 1.91990000e+04,  5.42479600e+04,  2.16000000e+02, ...,\n",
              "         9.95196104e-01,  1.40411401e+00,  2.23717594e+00]])"
            ]
          },
          "metadata": {},
          "execution_count": 14
        }
      ]
    },
    {
      "cell_type": "code",
      "source": [
        "scaler = StandardScaler()\n",
        "data_std = scaler.fit_transform(pd_arr[:,2:])\n",
        "data_std"
      ],
      "metadata": {
        "colab": {
          "base_uri": "https://localhost:8080/"
        },
        "id": "O3StjE8tbY7R",
        "outputId": "a1aef7fa-9fd5-4e81-e17f-2228cfd966e1"
      },
      "execution_count": null,
      "outputs": [
        {
          "output_type": "execute_result",
          "data": {
            "text/plain": [
              "array([[-0.10218242, -0.11905909,  0.68430902, ..., -0.42776025,\n",
              "        -1.48754722, -0.97623555],\n",
              "       [-0.10218242, -0.12510636,  0.55147287, ..., -0.75935883,\n",
              "        -1.49722643, -1.28171204],\n",
              "       [-0.10218242, -0.11895637,  0.3717129 , ..., -1.01101267,\n",
              "        -1.47954415, -1.34782615],\n",
              "       ...,\n",
              "       [ 1.42819676,  1.42668032,  0.55546696, ..., -0.59217272,\n",
              "        -0.38884086, -0.57445562],\n",
              "       [ 1.42819676,  1.42326867,  0.09704912, ..., -0.96982704,\n",
              "        -0.35776759, -0.69675858],\n",
              "       [ 1.42819676,  1.4243443 ,  0.40553964, ..., -0.98722263,\n",
              "        -0.45774141, -0.75513862]])"
            ]
          },
          "metadata": {},
          "execution_count": 15
        }
      ]
    },
    {
      "cell_type": "code",
      "source": [
        "def initialize_clusters(features, k_clusters):\n",
        "\n",
        "    row_indexes = np.random.choice(features.shape[0], size = k_clusters , replace = False)\n",
        "\n",
        "    initial_clusters = features[row_indexes, :]\n",
        "\n",
        "    return initial_clusters"
      ],
      "metadata": {
        "id": "G45JiP6Lewdy"
      },
      "execution_count": null,
      "outputs": []
    },
    {
      "cell_type": "code",
      "source": [
        "num_of_transmitter=30\n",
        "ini_clusters = initialize_clusters(data_std,num_of_transmitter)"
      ],
      "metadata": {
        "id": "v4-HXPxNfsey"
      },
      "execution_count": 17,
      "outputs": []
    },
    {
      "cell_type": "code",
      "source": [
        "def calculate_metric(features, centroid) :\n",
        "\n",
        "\n",
        "\n",
        "\n",
        "    distances_array = np.square(norm(features - centroid, axis = 1))\n",
        "\n",
        "\n",
        "    return distances_array"
      ],
      "metadata": {
        "id": "ABuivMaKglxs"
      },
      "execution_count": 18,
      "outputs": []
    },
    {
      "cell_type": "code",
      "source": [
        "calculate_metric(data_std, ini_clusters[1])"
      ],
      "metadata": {
        "colab": {
          "base_uri": "https://localhost:8080/"
        },
        "id": "H4F8HMY2hD2u",
        "outputId": "44ec3216-c4c2-4844-feb1-12fa0a3693cf"
      },
      "execution_count": 19,
      "outputs": [
        {
          "output_type": "execute_result",
          "data": {
            "text/plain": [
              "array([15.97857318, 18.18899209, 19.74302534, ...,  7.43644681,\n",
              "        7.82076853,  8.65716721])"
            ]
          },
          "metadata": {},
          "execution_count": 19
        }
      ]
    },
    {
      "cell_type": "code",
      "source": [
        "def compute_distances(features, centroids_points) :\n",
        "\n",
        "    distances_array = np.asarray([calculate_metric(features,centroid) for centroid in centroids_points])\n",
        "\n",
        "    return distances_array"
      ],
      "metadata": {
        "id": "Noh49xWDiOnT"
      },
      "execution_count": 20,
      "outputs": []
    },
    {
      "cell_type": "code",
      "source": [
        "distances = compute_distances(data_std,ini_clusters)"
      ],
      "metadata": {
        "id": "sPyL7WGIirF6"
      },
      "execution_count": 21,
      "outputs": []
    },
    {
      "cell_type": "code",
      "source": [
        "def assign_centroids(distances):\n",
        "\n",
        "\n",
        "    assigned_centroids = np.argmin(distances, axis = 0)\n",
        "\n",
        "    return assigned_centroids"
      ],
      "metadata": {
        "id": "L49-Mojbi8dj"
      },
      "execution_count": 22,
      "outputs": []
    },
    {
      "cell_type": "code",
      "source": [
        "assigned_centroid = assign_centroids(distances)\n",
        "\n",
        "assigned_centroid"
      ],
      "metadata": {
        "colab": {
          "base_uri": "https://localhost:8080/"
        },
        "id": "Fm5FetPqjI78",
        "outputId": "b080ae0a-3cc3-4cba-f93d-cc2a892f784b"
      },
      "execution_count": 23,
      "outputs": [
        {
          "output_type": "execute_result",
          "data": {
            "text/plain": [
              "array([12, 12, 12, ..., 13, 27, 27])"
            ]
          },
          "metadata": {},
          "execution_count": 23
        }
      ]
    },
    {
      "cell_type": "code",
      "source": [
        "def calculate_objective(assigned_centroids, distances):\n",
        "\n",
        "    objective_function_value = 0.0\n",
        "    n = assigned_centroids.shape[0]\n",
        "    for i in range (n):\n",
        "      column = distances[:,i]\n",
        "      objective_function_value = objective_function_value + column[assigned_centroids[i]]\n",
        "\n",
        "    return objective_function_value"
      ],
      "metadata": {
        "id": "NGhcNIJLmnNs"
      },
      "execution_count": 24,
      "outputs": []
    },
    {
      "cell_type": "code",
      "source": [
        "calculate_objective(assigned_centroid,distances)"
      ],
      "metadata": {
        "colab": {
          "base_uri": "https://localhost:8080/"
        },
        "id": "HhI47qLtnTdJ",
        "outputId": "74b988b2-a06b-489a-9ec3-c52503b64214"
      },
      "execution_count": 25,
      "outputs": [
        {
          "output_type": "execute_result",
          "data": {
            "text/plain": [
              "24198.576046341514"
            ]
          },
          "metadata": {},
          "execution_count": 25
        }
      ]
    },
    {
      "cell_type": "code",
      "source": [
        "def calculate_new_centroids(features, assigned_centroids, k_clusters):\n",
        "\n",
        "    new_clusters = np.zeros((k_clusters, features.shape[1]))\n",
        "\n",
        "    for cluster_index in range(k_clusters):\n",
        "        cluster_indices = np.where(assigned_centroids == cluster_index)[0]\n",
        "\n",
        "        cluster_points = features[cluster_indices,:]\n",
        "\n",
        "        new_cluster_point = np.mean(cluster_points, axis=0)\n",
        "\n",
        "        new_clusters[cluster_index,:] = new_cluster_point\n",
        "\n",
        "    return new_clusters"
      ],
      "metadata": {
        "id": "2Q-a1sdOnlU9"
      },
      "execution_count": 26,
      "outputs": []
    },
    {
      "cell_type": "code",
      "source": [
        "calculate_new_centroids(data_std,assigned_centroid,num_of_transmitter)"
      ],
      "metadata": {
        "colab": {
          "base_uri": "https://localhost:8080/"
        },
        "id": "adxOEmpToT5z",
        "outputId": "c8c006be-b9c3-47a7-eeb5-80f6f8501da5"
      },
      "execution_count": 27,
      "outputs": [
        {
          "output_type": "execute_result",
          "data": {
            "text/plain": [
              "array([[ 5.32642741e-01,  5.33505551e-01,  6.27800296e-01,\n",
              "         5.83696846e-01,  4.55574298e-01,  9.63685640e-01,\n",
              "         5.66900631e-02,  3.05037046e-01,  2.10780434e-01],\n",
              "       [-3.40372297e-02, -3.59768318e-02, -1.86592577e-01,\n",
              "         5.79200700e-01,  2.87628107e-02,  9.70909178e-01,\n",
              "         8.08785145e-02,  3.16684276e-01,  2.39202760e-01],\n",
              "       [ 7.25872043e-01,  7.60553407e-01, -1.19098084e+00,\n",
              "         9.95909713e-01, -1.36279090e+00, -1.63539947e+00,\n",
              "         2.92728455e-01,  1.08603751e+00,  9.27826838e-01],\n",
              "       [-5.74934160e-02, -5.87489006e-02, -1.87727862e+00,\n",
              "         1.04691596e+00, -1.81070617e+00, -1.67624592e+00,\n",
              "         1.40701789e+00,  1.83734305e+00,  1.86736652e+00],\n",
              "       [-4.16550947e-01, -4.43979822e-01,  2.59866476e-01,\n",
              "        -2.08678972e+00,  1.05440506e+00, -6.15402549e-03,\n",
              "        -8.51954346e-01, -1.39165311e+00, -1.24684074e+00],\n",
              "       [-1.87031693e+00, -1.85643140e+00,  7.20653400e-01,\n",
              "        -8.06865686e-01,  8.79464431e-01,  2.72212118e-01,\n",
              "        -9.96375102e-01, -9.66071450e-01, -1.12257970e+00],\n",
              "       [ 6.84583081e-02,  7.00560880e-02,  3.91737836e-01,\n",
              "        -9.50208997e-01,  2.44270040e-01,  2.46391048e-01,\n",
              "        -5.69321222e-01, -9.95146081e-01, -9.42902534e-01],\n",
              "       [-4.04296105e-01, -3.68728077e-01,  5.72180981e-01,\n",
              "        -1.73843007e+00,  1.05225901e+00,  2.68797724e-02,\n",
              "        -6.53986794e-01, -1.35875832e+00, -1.14090774e+00],\n",
              "       [ 8.53310771e-02,  8.24074731e-02,  2.49348248e-01,\n",
              "        -1.76946758e+00,  2.40214337e-01,  5.45724451e-02,\n",
              "        -6.88967136e-01, -1.32142380e+00, -1.15781114e+00],\n",
              "       [-1.86234501e-03, -4.74322733e-03, -1.20103880e+00,\n",
              "         9.82480199e-01, -1.31237843e+00, -1.62355534e+00,\n",
              "         2.02537278e-01,  9.41183594e-01,  7.87157835e-01],\n",
              "       [ 2.16937502e+00,  2.16477121e+00,  6.02799104e-01,\n",
              "         1.30833955e-01,  6.67507417e-01,  6.77156721e-01,\n",
              "        -5.55771162e-01, -2.59065981e-01, -4.66680716e-01],\n",
              "       [-2.44619658e-01, -2.47095068e-01, -1.29491529e+00,\n",
              "         8.88204763e-01, -1.36191610e+00, -1.53947384e+00,\n",
              "        -1.40627880e-01,  7.97745462e-01,  5.53246381e-01],\n",
              "       [ 1.40528176e-01,  1.40214320e-01,  4.03270219e-01,\n",
              "        -2.32109597e+00,  1.07447557e+00, -8.18195015e-02,\n",
              "        -6.32716146e-01, -1.44750013e+00, -1.16129147e+00],\n",
              "       [ 1.44112623e+00,  1.43193415e+00,  6.87039734e-01,\n",
              "        -1.49086577e-01,  6.56571730e-01,  5.44507054e-01,\n",
              "        -6.17014818e-01, -5.00860438e-01, -6.56826340e-01],\n",
              "       [ 2.14866906e-01,  2.07066418e-01,  8.14950360e-01,\n",
              "        -1.77496619e+00,  1.05345565e+00, -2.58762383e-02,\n",
              "        -6.47938584e-01, -1.40357708e+00, -1.14701712e+00],\n",
              "       [-1.42185293e+00, -1.41984015e+00,  6.32715694e-01,\n",
              "        -7.07274769e-01,  8.48662524e-01,  3.09933941e-01,\n",
              "        -6.42132527e-01, -9.04201845e-01, -9.24865060e-01],\n",
              "       [-1.38796666e+00, -1.38774424e+00, -2.52493711e-01,\n",
              "         6.58107300e-01, -2.49186747e-01,  1.02869814e+00,\n",
              "         5.27125988e-01,  4.17953648e-01,  4.96689942e-01],\n",
              "       [-1.56984770e+00, -1.56474417e+00,  1.17926698e+00,\n",
              "        -6.55529349e-01,  8.59738904e-01,  3.00225853e-01,\n",
              "        -4.00449566e-01, -9.22465088e-01, -8.11889668e-01],\n",
              "       [-3.57245612e-01, -3.49790278e-01, -4.24942710e-02,\n",
              "         6.35942626e-01, -1.83064902e-01,  1.01542847e+00,\n",
              "         4.35194205e-01,  3.70173988e-01,  4.68458727e-01],\n",
              "       [-5.84958117e-01, -5.90019209e-01, -2.65646210e-01,\n",
              "         6.12567358e-01, -1.08396185e-01,  9.95763141e-01,\n",
              "         2.34690219e-01,  3.54278581e-01,  3.28866539e-01],\n",
              "       [-6.08129475e-02, -5.99626403e-02,  7.77910681e-01,\n",
              "        -4.08879799e-01,  3.30041230e-01,  4.23441980e-01,\n",
              "        -1.90714651e-01, -6.74407168e-01, -5.87947165e-01],\n",
              "       [-1.15806909e-01, -1.09657454e-01,  2.62430390e-01,\n",
              "         5.90826432e-01, -1.03109135e-01,  9.84969174e-01,\n",
              "         1.48057025e+00,  3.10690655e-01,  8.36914129e-01],\n",
              "       [-1.76727003e-01, -2.02386505e-01,  1.04179556e+00,\n",
              "         4.12891608e-01,  5.58298215e-01,  8.39930505e-01,\n",
              "        -1.33618257e-02,  8.03032357e-02,  1.50946432e-02],\n",
              "       [-1.16157959e+00, -1.15954699e+00,  2.06803341e-01,\n",
              "         6.74705259e-01, -3.04169938e-01,  1.03663852e+00,\n",
              "         6.26589372e-01,  4.26223836e-01,  5.37571277e-01],\n",
              "       [-4.85802800e-01, -4.84091189e-01, -3.38635771e-01,\n",
              "         7.10764778e-01, -7.85286179e-01,  1.06930421e+00,\n",
              "         4.72795423e-01,  4.98466254e-01,  5.30891138e-01],\n",
              "       [-1.05695016e+00, -1.05709380e+00,  7.58546453e-01,\n",
              "        -6.40660785e-01,  7.60950330e-01,  3.27752118e-01,\n",
              "        -3.66109225e-01, -8.65674980e-01, -7.75093041e-01],\n",
              "       [ 6.40057093e-02,  6.41851846e-02,  7.26721733e-01,\n",
              "         4.55491647e-01,  6.74525822e-01,  8.72401441e-01,\n",
              "         9.45413563e-02,  1.20872701e-01,  6.88689144e-02],\n",
              "       [ 1.64368044e+00,  1.63757812e+00,  2.10996783e-01,\n",
              "        -7.58648561e-03,  7.52108152e-01,  6.15175961e-01,\n",
              "        -7.15432932e-01, -3.81861148e-01, -6.23629347e-01],\n",
              "       [ 2.15291849e-01,  2.16834480e-01, -1.37551781e+00,\n",
              "         1.01314802e+00, -1.48565263e+00, -1.65102110e+00,\n",
              "         7.49774103e-01,  1.38781716e+00,  1.28916343e+00],\n",
              "       [-1.52742479e+00, -1.54586631e+00,  9.53969975e-01,\n",
              "        -6.33544741e-01,  8.50693088e-01,  3.21066242e-01,\n",
              "         4.78142628e-01, -8.88003045e-01, -4.27260601e-01]])"
            ]
          },
          "metadata": {},
          "execution_count": 27
        }
      ]
    },
    {
      "cell_type": "code",
      "source": [
        "def fit(features, k_clusters, n_of_iterations, error):\n",
        "    centroid_points = initialize_clusters(features, k_clusters)\n",
        "    last_objective = np.inf\n",
        "\n",
        "    for iteration in range(n_of_iterations):\n",
        "\n",
        "        distances = compute_distances(features, centroid_points)\n",
        "\n",
        "        assigned_centroids = assign_centroids(distances)\n",
        "\n",
        "        objective_value = calculate_objective(assigned_centroids, distances)\n",
        "\n",
        "        new_centroids = calculate_new_centroids(features, assigned_centroids, k_clusters)\n",
        "\n",
        "        if abs(objective_value - last_objective) < error:\n",
        "            break\n",
        "\n",
        "        centroid_points = new_centroids\n",
        "\n",
        "        last_objective = objective_value\n",
        "\n",
        "    return centroid_points, last_objective"
      ],
      "metadata": {
        "id": "u7iTm7WmohRp"
      },
      "execution_count": 28,
      "outputs": []
    },
    {
      "cell_type": "code",
      "source": [
        "fit(data_std, num_of_transmitter, 1000, 0.0001)"
      ],
      "metadata": {
        "colab": {
          "base_uri": "https://localhost:8080/"
        },
        "id": "HPho7IhapUPq",
        "outputId": "3f9a81e5-5110-4099-b435-04c2fcf94062"
      },
      "execution_count": 30,
      "outputs": [
        {
          "output_type": "execute_result",
          "data": {
            "text/plain": [
              "(array([[-2.06972849e-01, -2.07281988e-01,  1.00972640e+00,\n",
              "         -1.30188863e-01,  3.92282445e-01,  5.31370398e-01,\n",
              "         -1.00779072e-01, -4.70880372e-01, -4.19186831e-01],\n",
              "        [-1.45789620e+00, -1.45888319e+00,  1.18581569e+00,\n",
              "         -6.21669097e-01,  8.51580565e-01,  3.12202558e-01,\n",
              "         -7.00673665e-02, -9.04072389e-01, -6.60682611e-01],\n",
              "        [-1.74757059e+00, -1.74932905e+00,  8.37727407e-01,\n",
              "         -7.49620731e-01,  8.67420702e-01,  2.85220898e-01,\n",
              "         -7.09322977e-01, -9.47151006e-01, -9.69185383e-01],\n",
              "        [ 5.05606027e-01,  5.07592439e-01,  5.56416444e-01,\n",
              "         -7.00855966e-01,  2.44297249e-01,  3.17072815e-01,\n",
              "         -2.68273298e-01, -8.77252356e-01, -7.49465200e-01],\n",
              "        [-1.27361406e+00, -1.26066854e+00,  8.04347332e-01,\n",
              "         -6.78812748e-01,  8.46759149e-01,  3.11525326e-01,\n",
              "         -8.64645894e-01, -8.99761090e-01, -1.02322851e+00],\n",
              "        [ 2.30662408e+00,  2.30559305e+00,  8.23673178e-01,\n",
              "          1.57012033e-01,  6.28798004e-01,  6.85878926e-01,\n",
              "         -5.08278867e-01, -2.39169788e-01, -4.29485962e-01],\n",
              "        [ 1.60572384e+00,  1.59878560e+00,  2.82802385e-01,\n",
              "         -1.25495615e-02,  7.60178927e-01,  6.10620405e-01,\n",
              "         -7.14201997e-01, -3.91981920e-01, -6.30846536e-01],\n",
              "        [ 3.19421441e-02,  2.84390049e-02,  4.76958381e-01,\n",
              "          4.47802967e-01,  6.74959731e-01,  8.71119225e-01,\n",
              "         -4.99764348e-02,  1.34038345e-01,  2.99588165e-02],\n",
              "        [-3.15342373e-01, -2.86859284e-01, -2.68717527e-01,\n",
              "          1.02431135e-01, -2.43868426e-01, -2.12003700e-01,\n",
              "          1.91666128e+01,  1.10063268e+00,  9.60413326e+00],\n",
              "        [-4.63957327e-01, -4.52294872e-01,  1.38787268e-01,\n",
              "         -2.07621755e+00,  1.05073273e+00,  7.11858034e-03,\n",
              "         -7.13460357e-01, -1.37813094e+00, -1.17728792e+00],\n",
              "        [ 8.09121948e-01,  8.07282342e-01,  5.60195143e-01,\n",
              "          6.60011664e-01,  3.08874526e-01,  1.02013219e+00,\n",
              "          2.52364776e-01,  3.97899788e-01,  3.51905988e-01],\n",
              "        [-1.37899877e+00, -1.37953822e+00,  5.58819558e-01,\n",
              "         -7.06858146e-01,  8.47105981e-01,  3.13697462e-01,\n",
              "         -1.56892281e-01, -8.95310997e-01, -6.95033050e-01],\n",
              "        [-1.04169921e-01, -8.96478985e-02,  3.33385424e-01,\n",
              "         -1.80862029e+00,  1.04315060e+00,  3.60586126e-02,\n",
              "         -8.31667315e-01, -1.35582425e+00, -1.22672077e+00],\n",
              "        [-4.63721197e-01, -4.74239310e-01, -1.27541192e+00,\n",
              "          9.05076155e-01, -1.35436136e+00, -1.55462817e+00,\n",
              "         -1.87672768e-02,  8.16343019e-01,  6.06017544e-01],\n",
              "        [ 4.06936129e-01,  4.09176976e-01,  6.15500757e-01,\n",
              "          5.68393920e-01,  5.11859671e-01,  9.51575830e-01,\n",
              "          4.77227037e-02,  2.80301399e-01,  1.87753426e-01],\n",
              "        [ 1.09976790e-01,  1.09494993e-01,  3.65560151e-01,\n",
              "         -1.59317343e+00,  1.60060769e-01,  8.67442615e-02,\n",
              "         -6.57392463e-01, -1.26694928e+00, -1.11651966e+00],\n",
              "        [ 3.51528390e-01,  3.55141954e-01, -1.26920595e+00,\n",
              "          1.01515310e+00, -1.29255839e+00, -1.65309792e+00,\n",
              "          2.36272522e-01,  1.01318008e+00,  8.66711925e-01],\n",
              "        [ 6.07973834e-01,  6.07165223e-01,  5.80591404e-01,\n",
              "         -2.16219753e+00,  1.08152504e+00, -7.20993530e-02,\n",
              "         -5.53549341e-01, -1.44442724e+00, -1.11962237e+00],\n",
              "        [-4.90423728e-01, -4.91384498e-01, -3.50175933e-01,\n",
              "          7.07427466e-01, -6.84500993e-01,  1.06729348e+00,\n",
              "          5.38162269e-01,  4.92080016e-01,  5.51617005e-01],\n",
              "        [ 2.22006900e+00,  2.21855048e+00,  3.18870447e-01,\n",
              "          1.24786700e-01,  6.59543682e-01,  6.80248339e-01,\n",
              "         -5.80949493e-01, -2.52758984e-01, -4.74763769e-01],\n",
              "        [-2.39094758e-01, -2.45372109e-01,  5.65499343e-01,\n",
              "         -6.37027318e-01,  3.14147669e-01,  3.39113231e-01,\n",
              "         -3.47852858e-01, -8.31280223e-01, -7.54429657e-01],\n",
              "        [-2.51429197e-02, -2.04376098e-02,  8.70063830e-01,\n",
              "         -1.87206586e+00,  1.06672784e+00, -6.28276155e-02,\n",
              "         -5.98662427e-01, -1.42976964e+00, -1.13408039e+00],\n",
              "        [ 5.53067981e-02,  5.20482922e-02,  1.01270158e+00,\n",
              "          4.82627080e-01,  6.54131933e-01,  8.83947820e-01,\n",
              "          3.62549704e-02,  1.50639076e-01,  7.93548582e-02],\n",
              "        [ 1.89441585e+00,  1.88184541e+00,  6.76529169e-01,\n",
              "          9.67716257e-02,  7.30439141e-01,  6.57855568e-01,\n",
              "         -6.02621796e-01, -2.99268627e-01, -5.15567779e-01],\n",
              "        [-1.36375301e+00, -1.36244660e+00, -8.68214552e-02,\n",
              "          6.55053312e-01, -2.35479475e-01,  1.02597062e+00,\n",
              "          6.01148242e-01,  4.10538901e-01,  5.14450195e-01],\n",
              "        [-3.61342380e-01, -3.55890085e-01, -3.89295645e-02,\n",
              "          6.07205626e-01, -9.06307253e-02,  9.91230816e-01,\n",
              "          2.65098207e-01,  3.32634172e-01,  3.46703042e-01],\n",
              "        [-9.42661853e-03, -9.46398301e-03, -1.78778441e+00,\n",
              "          1.04336846e+00, -1.79528476e+00, -1.67582123e+00,\n",
              "          1.21710731e+00,  1.81290325e+00,  1.75935802e+00],\n",
              "        [-4.55459087e-02, -3.81158649e-02, -1.26725735e+00,\n",
              "          9.10804926e-01, -1.34877865e+00, -1.55944032e+00,\n",
              "         -6.42251785e-02,  8.27925167e-01,  6.03216003e-01],\n",
              "        [ 1.81149859e-02,  2.45862933e-02,  2.86344225e-01,\n",
              "         -2.51420764e+00,  1.07204678e+00, -9.83551516e-02,\n",
              "         -6.77579633e-01, -1.45956034e+00, -1.18793841e+00],\n",
              "        [-4.72849795e-01, -4.96559560e-01,  7.13935143e-01,\n",
              "         -1.71575476e+00,  1.05649062e+00,  1.95672088e-02,\n",
              "         -6.85146931e-01, -1.36708781e+00, -1.15394148e+00]]),\n",
              " 8830.11744021517)"
            ]
          },
          "metadata": {},
          "execution_count": 30
        }
      ]
    },
    {
      "cell_type": "code",
      "source": [
        "num_of_transmitters = range(2, 35)\n",
        "all_objective = []\n",
        "for i in num_of_transmitters:\n",
        "  all_objective.append(fit(data_std, i, 100, 0.001)[1])"
      ],
      "metadata": {
        "id": "U2e739Oxpwwt"
      },
      "execution_count": 42,
      "outputs": []
    },
    {
      "cell_type": "code",
      "source": [
        "plt.figure()\n",
        "plt.plot(num_of_transmitters, all_objective)\n",
        "plt.xlabel('Number of Wireless Transmitters')\n",
        "plt.ylabel('Objective function values')"
      ],
      "metadata": {
        "colab": {
          "base_uri": "https://localhost:8080/",
          "height": 466
        },
        "id": "b1AiETItrptu",
        "outputId": "0a72e9ae-744b-4155-e4e8-51174bd78202"
      },
      "execution_count": 47,
      "outputs": [
        {
          "output_type": "execute_result",
          "data": {
            "text/plain": [
              "Text(0, 0.5, 'Objective function values')"
            ]
          },
          "metadata": {},
          "execution_count": 47
        },
        {
          "output_type": "display_data",
          "data": {
            "text/plain": [
              "<Figure size 640x480 with 1 Axes>"
            ],
            "image/png": "[encoded data removed]"
          },
          "metadata": {}
        }
      ]
    },
    {
      "cell_type": "code",
      "source": [
        "def plot_silhouette_scores(data, k_range):\n",
        "    silhouette_scores = []\n",
        "\n",
        "    for k in k_range:\n",
        "        kmeans = KMeans(n_clusters=k, random_state=42)\n",
        "        cluster_labels = kmeans.fit_predict(data)\n",
        "\n",
        "        silhouette_avg = silhouette_score(data, cluster_labels)\n",
        "        silhouette_scores.append(silhouette_avg)\n",
        "\n",
        "    plt.plot(k_range, silhouette_scores, marker='o')\n",
        "    plt.xlabel('Number of Wireless Transmitters')\n",
        "    plt.ylabel('Silhouette score')\n",
        "    plt.title('Silhouette Method for determining the number of wireless transmitters')\n",
        "    plt.grid(True)\n",
        "    plt.show()"
      ],
      "metadata": {
        "id": "tYZq7RsvvYVj"
      },
      "execution_count": 49,
      "outputs": []
    },
    {
      "cell_type": "code",
      "source": [
        "num_of_transmitters = range(2, 35)\n",
        "plot_silhouette_scores(data_std, num_of_transmitters)"
      ],
      "metadata": {
        "colab": {
          "base_uri": "https://localhost:8080/",
          "height": 1000
        },
        "id": "teYQg08TfVf5",
        "outputId": "18795a13-0f80-43f3-887b-3c6400ff91b3"
      },
      "execution_count": 50,
      "outputs": [
        {
          "output_type": "stream",
          "name": "stderr",
          "text": [
            "/usr/local/lib/python3.10/dist-packages/sklearn/cluster/_kmeans.py:870: FutureWarning: The default value of `n_init` will change from 10 to 'auto' in 1.4. Set the value of `n_init` explicitly to suppress the warning\n",
            "  warnings.warn(\n",
            "/usr/local/lib/python3.10/dist-packages/sklearn/cluster/_kmeans.py:870: FutureWarning: The default value of `n_init` will change from 10 to 'auto' in 1.4. Set the value of `n_init` explicitly to suppress the warning\n",
            "  warnings.warn(\n",
            "/usr/local/lib/python3.10/dist-packages/sklearn/cluster/_kmeans.py:870: FutureWarning: The default value of `n_init` will change from 10 to 'auto' in 1.4. Set the value of `n_init` explicitly to suppress the warning\n",
            "  warnings.warn(\n",
            "/usr/local/lib/python3.10/dist-packages/sklearn/cluster/_kmeans.py:870: FutureWarning: The default value of `n_init` will change from 10 to 'auto' in 1.4. Set the value of `n_init` explicitly to suppress the warning\n",
            "  warnings.warn(\n",
            "/usr/local/lib/python3.10/dist-packages/sklearn/cluster/_kmeans.py:870: FutureWarning: The default value of `n_init` will change from 10 to 'auto' in 1.4. Set the value of `n_init` explicitly to suppress the warning\n",
            "  warnings.warn(\n",
            "/usr/local/lib/python3.10/dist-packages/sklearn/cluster/_kmeans.py:870: FutureWarning: The default value of `n_init` will change from 10 to 'auto' in 1.4. Set the value of `n_init` explicitly to suppress the warning\n",
            "  warnings.warn(\n",
            "/usr/local/lib/python3.10/dist-packages/sklearn/cluster/_kmeans.py:870: FutureWarning: The default value of `n_init` will change from 10 to 'auto' in 1.4. Set the value of `n_init` explicitly to suppress the warning\n",
            "  warnings.warn(\n",
            "/usr/local/lib/python3.10/dist-packages/sklearn/cluster/_kmeans.py:870: FutureWarning: The default value of `n_init` will change from 10 to 'auto' in 1.4. Set the value of `n_init` explicitly to suppress the warning\n",
            "  warnings.warn(\n",
            "/usr/local/lib/python3.10/dist-packages/sklearn/cluster/_kmeans.py:870: FutureWarning: The default value of `n_init` will change from 10 to 'auto' in 1.4. Set the value of `n_init` explicitly to suppress the warning\n",
            "  warnings.warn(\n",
            "/usr/local/lib/python3.10/dist-packages/sklearn/cluster/_kmeans.py:870: FutureWarning: The default value of `n_init` will change from 10 to 'auto' in 1.4. Set the value of `n_init` explicitly to suppress the warning\n",
            "  warnings.warn(\n",
            "/usr/local/lib/python3.10/dist-packages/sklearn/cluster/_kmeans.py:870: FutureWarning: The default value of `n_init` will change from 10 to 'auto' in 1.4. Set the value of `n_init` explicitly to suppress the warning\n",
            "  warnings.warn(\n",
            "/usr/local/lib/python3.10/dist-packages/sklearn/cluster/_kmeans.py:870: FutureWarning: The default value of `n_init` will change from 10 to 'auto' in 1.4. Set the value of `n_init` explicitly to suppress the warning\n",
            "  warnings.warn(\n",
            "/usr/local/lib/python3.10/dist-packages/sklearn/cluster/_kmeans.py:870: FutureWarning: The default value of `n_init` will change from 10 to 'auto' in 1.4. Set the value of `n_init` explicitly to suppress the warning\n",
            "  warnings.warn(\n",
            "/usr/local/lib/python3.10/dist-packages/sklearn/cluster/_kmeans.py:870: FutureWarning: The default value of `n_init` will change from 10 to 'auto' in 1.4. Set the value of `n_init` explicitly to suppress the warning\n",
            "  warnings.warn(\n",
            "/usr/local/lib/python3.10/dist-packages/sklearn/cluster/_kmeans.py:870: FutureWarning: The default value of `n_init` will change from 10 to 'auto' in 1.4. Set the value of `n_init` explicitly to suppress the warning\n",
            "  warnings.warn(\n",
            "/usr/local/lib/python3.10/dist-packages/sklearn/cluster/_kmeans.py:870: FutureWarning: The default value of `n_init` will change from 10 to 'auto' in 1.4. Set the value of `n_init` explicitly to suppress the warning\n",
            "  warnings.warn(\n",
            "/usr/local/lib/python3.10/dist-packages/sklearn/cluster/_kmeans.py:870: FutureWarning: The default value of `n_init` will change from 10 to 'auto' in 1.4. Set the value of `n_init` explicitly to suppress the warning\n",
            "  warnings.warn(\n",
            "/usr/local/lib/python3.10/dist-packages/sklearn/cluster/_kmeans.py:870: FutureWarning: The default value of `n_init` will change from 10 to 'auto' in 1.4. Set the value of `n_init` explicitly to suppress the warning\n",
            "  warnings.warn(\n",
            "/usr/local/lib/python3.10/dist-packages/sklearn/cluster/_kmeans.py:870: FutureWarning: The default value of `n_init` will change from 10 to 'auto' in 1.4. Set the value of `n_init` explicitly to suppress the warning\n",
            "  warnings.warn(\n",
            "/usr/local/lib/python3.10/dist-packages/sklearn/cluster/_kmeans.py:870: FutureWarning: The default value of `n_init` will change from 10 to 'auto' in 1.4. Set the value of `n_init` explicitly to suppress the warning\n",
            "  warnings.warn(\n",
            "/usr/local/lib/python3.10/dist-packages/sklearn/cluster/_kmeans.py:870: FutureWarning: The default value of `n_init` will change from 10 to 'auto' in 1.4. Set the value of `n_init` explicitly to suppress the warning\n",
            "  warnings.warn(\n",
            "/usr/local/lib/python3.10/dist-packages/sklearn/cluster/_kmeans.py:870: FutureWarning: The default value of `n_init` will change from 10 to 'auto' in 1.4. Set the value of `n_init` explicitly to suppress the warning\n",
            "  warnings.warn(\n",
            "/usr/local/lib/python3.10/dist-packages/sklearn/cluster/_kmeans.py:870: FutureWarning: The default value of `n_init` will change from 10 to 'auto' in 1.4. Set the value of `n_init` explicitly to suppress the warning\n",
            "  warnings.warn(\n",
            "/usr/local/lib/python3.10/dist-packages/sklearn/cluster/_kmeans.py:870: FutureWarning: The default value of `n_init` will change from 10 to 'auto' in 1.4. Set the value of `n_init` explicitly to suppress the warning\n",
            "  warnings.warn(\n",
            "/usr/local/lib/python3.10/dist-packages/sklearn/cluster/_kmeans.py:870: FutureWarning: The default value of `n_init` will change from 10 to 'auto' in 1.4. Set the value of `n_init` explicitly to suppress the warning\n",
            "  warnings.warn(\n",
            "/usr/local/lib/python3.10/dist-packages/sklearn/cluster/_kmeans.py:870: FutureWarning: The default value of `n_init` will change from 10 to 'auto' in 1.4. Set the value of `n_init` explicitly to suppress the warning\n",
            "  warnings.warn(\n",
            "/usr/local/lib/python3.10/dist-packages/sklearn/cluster/_kmeans.py:870: FutureWarning: The default value of `n_init` will change from 10 to 'auto' in 1.4. Set the value of `n_init` explicitly to suppress the warning\n",
            "  warnings.warn(\n",
            "/usr/local/lib/python3.10/dist-packages/sklearn/cluster/_kmeans.py:870: FutureWarning: The default value of `n_init` will change from 10 to 'auto' in 1.4. Set the value of `n_init` explicitly to suppress the warning\n",
            "  warnings.warn(\n",
            "/usr/local/lib/python3.10/dist-packages/sklearn/cluster/_kmeans.py:870: FutureWarning: The default value of `n_init` will change from 10 to 'auto' in 1.4. Set the value of `n_init` explicitly to suppress the warning\n",
            "  warnings.warn(\n",
            "/usr/local/lib/python3.10/dist-packages/sklearn/cluster/_kmeans.py:870: FutureWarning: The default value of `n_init` will change from 10 to 'auto' in 1.4. Set the value of `n_init` explicitly to suppress the warning\n",
            "  warnings.warn(\n",
            "/usr/local/lib/python3.10/dist-packages/sklearn/cluster/_kmeans.py:870: FutureWarning: The default value of `n_init` will change from 10 to 'auto' in 1.4. Set the value of `n_init` explicitly to suppress the warning\n",
            "  warnings.warn(\n",
            "/usr/local/lib/python3.10/dist-packages/sklearn/cluster/_kmeans.py:870: FutureWarning: The default value of `n_init` will change from 10 to 'auto' in 1.4. Set the value of `n_init` explicitly to suppress the warning\n",
            "  warnings.warn(\n",
            "/usr/local/lib/python3.10/dist-packages/sklearn/cluster/_kmeans.py:870: FutureWarning: The default value of `n_init` will change from 10 to 'auto' in 1.4. Set the value of `n_init` explicitly to suppress the warning\n",
            "  warnings.warn(\n"
          ]
        },
        {
          "output_type": "display_data",
          "data": {
            "text/plain": [
              "<Figure size 640x480 with 1 Axes>"
            ],
            "image/png": "[encoded data removed]"
          },
          "metadata": {}
        }
      ]
    }
  ]
}