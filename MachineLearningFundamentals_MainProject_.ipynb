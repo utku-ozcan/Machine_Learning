{
  "nbformat": 4,
  "nbformat_minor": 0,
  "metadata": {
    "colab": {
      "provenance": [],
      "gpuType": "T4",
      "include_colab_link": true
    },
    "kernelspec": {
      "name": "python3",
      "display_name": "Python 3"
    },
    "language_info": {
      "name": "python"
    },
    "accelerator": "GPU"
  },
  "cells": [
    {
      "cell_type": "markdown",
      "metadata": {
        "id": "view-in-github",
        "colab_type": "text"
      },
      "source": [
        "<a href=\"https://colab.research.google.com/github/utku-ozcan/Machine_Learning/blob/main/MachineLearningFundamentals_MainProject_.ipynb\" target=\"_parent\"><img src=\"https://colab.research.google.com/assets/colab-badge.svg\" alt=\"Open In Colab\"/></a>"
      ]
    },
    {
      "cell_type": "code",
      "execution_count": null,
      "metadata": {
        "id": "g7Z4u0fY82R_"
      },
      "outputs": [],
      "source": [
        "from tensorflow import keras\n",
        "from keras.models import Sequential\n",
        "from keras.datasets import mnist\n",
        "import numpy as np\n",
        "import matplotlib\n",
        "import matplotlib.pyplot as plt\n",
        "from keras.models import Sequential\n",
        "from keras.layers import Dense, Flatten, Dropout\n",
        "from keras.optimizers import SGD, Adam, RMSprop\n",
        "from keras.datasets import cifar10\n",
        "from keras.utils import to_categorical\n",
        "import matplotlib.pyplot as plt\n",
        "import matplotlib\n",
        "import numpy as np\n",
        "from keras.layers import Convolution2D\n",
        "import cv2\n",
        "from keras.layers import Conv2D\n",
        "from keras.layers import MaxPool2D, MaxPooling2D\n",
        "import os\n",
        "import pandas as pd\n",
        "from keras import regularizers\n"
      ]
    },
    {
      "cell_type": "code",
      "source": [
        "from google.colab import drive\n",
        "drive.mount('/content/drive')"
      ],
      "metadata": {
        "id": "_fGg2OrcnInU"
      },
      "execution_count": null,
      "outputs": []
    },
    {
      "cell_type": "code",
      "source": [
        "y_train = np.genfromtxt(\"/content/drive/MyDrive/Colab_Notebooks/y_train.csv\",delimiter=\",\")"
      ],
      "metadata": {
        "id": "fQyJHeIWGONx"
      },
      "execution_count": null,
      "outputs": []
    },
    {
      "cell_type": "code",
      "source": [
        "y_train = y_train[1:]\n",
        "y_train"
      ],
      "metadata": {
        "colab": {
          "base_uri": "https://localhost:8080/"
        },
        "id": "lVyKRD96BYxh",
        "outputId": "16b21f58-60cc-422e-db95-963a46a1dc74"
      },
      "execution_count": null,
      "outputs": [
        {
          "output_type": "execute_result",
          "data": {
            "text/plain": [
              "array([[0.0000e+00, 0.0000e+00],\n",
              "       [1.0000e+00, 1.0000e+00],\n",
              "       [2.0000e+00, 0.0000e+00],\n",
              "       ...,\n",
              "       [1.6179e+04, 2.0000e+00],\n",
              "       [1.6180e+04, 0.0000e+00],\n",
              "       [1.6181e+04, 1.0000e+00]])"
            ]
          },
          "metadata": {},
          "execution_count": 93
        }
      ]
    },
    {
      "cell_type": "code",
      "source": [
        "!unzip \"/content/drive/MyDrive/Colab_Notebooks/train_data_unlabeled.zip\" -d \"./train_data\""
      ],
      "metadata": {
        "id": "juZejhVFq-kL"
      },
      "execution_count": null,
      "outputs": []
    },
    {
      "cell_type": "code",
      "source": [
        "!ls \"./train_data/train_data_unlabeled\""
      ],
      "metadata": {
        "id": "qqRsiFm7llaX"
      },
      "execution_count": null,
      "outputs": []
    },
    {
      "cell_type": "code",
      "source": [
        "x_train = '/content/train_data/train_data_unlabeled'"
      ],
      "metadata": {
        "id": "bQ9tJAL6uDlP"
      },
      "execution_count": null,
      "outputs": []
    },
    {
      "cell_type": "code",
      "source": [
        "imagefiles_train = os.listdir(x_train)\n",
        "imagefiles_train = sorted(imagefiles_train, key = lambda x:int(x.split(\"_\")[1][:-4]))"
      ],
      "metadata": {
        "id": "RqrnBkdzt1Fx"
      },
      "execution_count": null,
      "outputs": []
    },
    {
      "cell_type": "code",
      "source": [
        "imagefiles_train"
      ],
      "metadata": {
        "id": "39CddZzewOU6"
      },
      "execution_count": null,
      "outputs": []
    },
    {
      "cell_type": "code",
      "source": [
        "images_train = []\n",
        "for i in range(len(imagefiles_train)):\n",
        "  new_image = cv2.imread(\"/content/train_data/train_data_unlabeled/\" + imagefiles_train[i])\n",
        "  images_train.append(new_image)"
      ],
      "metadata": {
        "id": "Si8UhdnQt6Ll"
      },
      "execution_count": null,
      "outputs": []
    },
    {
      "cell_type": "code",
      "source": [
        "images_train"
      ],
      "metadata": {
        "id": "lGxnZ0c7TIXZ"
      },
      "execution_count": null,
      "outputs": []
    },
    {
      "cell_type": "code",
      "source": [
        "np.asarray(images_train).shape"
      ],
      "metadata": {
        "colab": {
          "base_uri": "https://localhost:8080/"
        },
        "id": "JNBJzctOubcZ",
        "outputId": "858a6479-c2c2-4d1b-a723-43c0de6fd597"
      },
      "execution_count": null,
      "outputs": [
        {
          "output_type": "execute_result",
          "data": {
            "text/plain": [
              "(16182, 45, 51, 3)"
            ]
          },
          "metadata": {},
          "execution_count": 124
        }
      ]
    },
    {
      "cell_type": "code",
      "source": [
        "!unzip \"/content/drive/MyDrive/Colab_Notebooks/test_data_unlabeled.zip\" -d \"./test_data\""
      ],
      "metadata": {
        "id": "Gtpjf0YmxlkD"
      },
      "execution_count": null,
      "outputs": []
    },
    {
      "cell_type": "code",
      "source": [
        "!ls \"./test_data/test_data_unlabeled\""
      ],
      "metadata": {
        "id": "8v6tH4JpyQDI"
      },
      "execution_count": null,
      "outputs": []
    },
    {
      "cell_type": "code",
      "source": [
        "x_test = '/content/test_data/test_data_unlabeled'"
      ],
      "metadata": {
        "id": "Qr9DIFwDyVtj"
      },
      "execution_count": null,
      "outputs": []
    },
    {
      "cell_type": "code",
      "source": [
        "imagefiles_test = os.listdir(x_test)\n",
        "imagefiles_test = sorted(imagefiles_test, key = lambda x:int(x.split(\"_\")[1][:-4]))"
      ],
      "metadata": {
        "id": "4Qt84mgcxtos"
      },
      "execution_count": null,
      "outputs": []
    },
    {
      "cell_type": "code",
      "source": [
        "images_test = []\n",
        "for i in range(len(imagefiles_test)):\n",
        "  new_image = cv2.imread(\"/content/test_data/test_data_unlabeled/\" + str(imagefiles_test[i]))\n",
        "  images_test.append(new_image)"
      ],
      "metadata": {
        "id": "vrOPH06KylJG"
      },
      "execution_count": null,
      "outputs": []
    },
    {
      "cell_type": "code",
      "source": [
        "images_test"
      ],
      "metadata": {
        "id": "LPMutJltPsYB"
      },
      "execution_count": null,
      "outputs": []
    },
    {
      "cell_type": "code",
      "source": [
        "np.asarray(images_test).shape"
      ],
      "metadata": {
        "colab": {
          "base_uri": "https://localhost:8080/"
        },
        "id": "_cp4OP2AyxoH",
        "outputId": "df416b6b-7b9b-4d05-9df6-04b4768985ef"
      },
      "execution_count": null,
      "outputs": [
        {
          "output_type": "execute_result",
          "data": {
            "text/plain": [
              "(4796, 45, 51, 3)"
            ]
          },
          "metadata": {},
          "execution_count": 99
        }
      ]
    },
    {
      "cell_type": "code",
      "source": [
        "x_data_train = np.asarray(images_train)\n",
        "x_data_test = np.asarray(images_test)\n",
        "y_data_train = np.asarray(y_train)"
      ],
      "metadata": {
        "id": "1myBR_llDMgg"
      },
      "execution_count": null,
      "outputs": []
    },
    {
      "cell_type": "markdown",
      "source": [
        "# ***Preprocessing ***"
      ],
      "metadata": {
        "id": "gTNX33h7BoiL"
      }
    },
    {
      "cell_type": "code",
      "source": [
        "x_data_train"
      ],
      "metadata": {
        "id": "Kp2itNPtI1tP"
      },
      "execution_count": null,
      "outputs": []
    },
    {
      "cell_type": "code",
      "source": [
        "y_data_train"
      ],
      "metadata": {
        "colab": {
          "base_uri": "https://localhost:8080/"
        },
        "id": "Lg4R6_XjI1-a",
        "outputId": "28dbb3fd-d892-45e9-b227-fc8cf7078b8f"
      },
      "execution_count": null,
      "outputs": [
        {
          "output_type": "execute_result",
          "data": {
            "text/plain": [
              "array([[0.0000e+00, 0.0000e+00],\n",
              "       [1.0000e+00, 1.0000e+00],\n",
              "       [2.0000e+00, 0.0000e+00],\n",
              "       ...,\n",
              "       [1.6179e+04, 2.0000e+00],\n",
              "       [1.6180e+04, 0.0000e+00],\n",
              "       [1.6181e+04, 1.0000e+00]])"
            ]
          },
          "metadata": {},
          "execution_count": 102
        }
      ]
    },
    {
      "cell_type": "code",
      "source": [
        "labels = {0:'0',1:'1',2:'2',3:'3'}\n",
        "num_classes = 4"
      ],
      "metadata": {
        "id": "-eY6Yj4EEd_i"
      },
      "execution_count": null,
      "outputs": []
    },
    {
      "cell_type": "code",
      "source": [
        "X_train_1 = x_data_train.astype('float32') / 255.0\n",
        "y_train_1 = to_categorical(y_data_train[:,1], num_classes=4)\n",
        "X_test_1 = x_data_test.astype('float32') / 255.0"
      ],
      "metadata": {
        "id": "Y8Jht-jDE4An"
      },
      "execution_count": null,
      "outputs": []
    },
    {
      "cell_type": "code",
      "source": [
        "model = Sequential()\n",
        "\n",
        "model.add(Conv2D(64, kernel_size=(3, 3), input_shape=(45, 51, 3), activation='relu', padding='same'))\n",
        "model.add(Conv2D(64, kernel_size=(3, 3), activation='relu', padding='same'))\n",
        "model.add(MaxPooling2D(pool_size=(2, 2)))\n",
        "model.add(Dropout(0.25))\n",
        "\n",
        "model.add(Conv2D(128, kernel_size=(3, 3), activation='relu', padding='same'))\n",
        "model.add(Conv2D(128, kernel_size=(3, 3), activation='relu', padding='same'))\n",
        "model.add(MaxPooling2D(pool_size=(2, 2)))\n",
        "model.add(Dropout(0.25))\n",
        "\n",
        "model.add(Conv2D(256, kernel_size=(3, 3), activation='relu', padding='same'))\n",
        "model.add(Conv2D(256, kernel_size=(3, 3), activation='relu', padding='same'))\n",
        "model.add(MaxPooling2D(pool_size=(2, 2)))\n",
        "model.add(Dropout(0.25))\n",
        "\n",
        "model.add(Flatten())\n",
        "model.add(Dense(512, activation='relu'))\n",
        "model.add(Dropout(0.25))\n",
        "model.add(Dense(num_classes, activation='softmax'))\n",
        "\n"
      ],
      "metadata": {
        "id": "z8DYNwco04_S"
      },
      "execution_count": null,
      "outputs": []
    },
    {
      "cell_type": "code",
      "source": [
        "optimizer = Adam(learning_rate=0.001)\n",
        "model.compile(loss='categorical_crossentropy', optimizer=optimizer, metrics=['accuracy'])"
      ],
      "metadata": {
        "id": "hnNAzSJRGycQ"
      },
      "execution_count": null,
      "outputs": []
    },
    {
      "cell_type": "code",
      "source": [
        "model.summary()"
      ],
      "metadata": {
        "colab": {
          "base_uri": "https://localhost:8080/"
        },
        "id": "owxpcQaBGyY_",
        "outputId": "7f411347-60d8-403c-872d-0f0ecef7d8b6"
      },
      "execution_count": null,
      "outputs": [
        {
          "output_type": "stream",
          "name": "stdout",
          "text": [
            "Model: \"sequential_14\"\n",
            "_________________________________________________________________\n",
            " Layer (type)                Output Shape              Param #   \n",
            "=================================================================\n",
            " conv2d_68 (Conv2D)          (None, 45, 51, 64)        1792      \n",
            "                                                                 \n",
            " conv2d_69 (Conv2D)          (None, 45, 51, 64)        36928     \n",
            "                                                                 \n",
            " max_pooling2d_36 (MaxPooli  (None, 22, 25, 64)        0         \n",
            " ng2D)                                                           \n",
            "                                                                 \n",
            " dropout_38 (Dropout)        (None, 22, 25, 64)        0         \n",
            "                                                                 \n",
            " conv2d_70 (Conv2D)          (None, 22, 25, 128)       73856     \n",
            "                                                                 \n",
            " conv2d_71 (Conv2D)          (None, 22, 25, 128)       147584    \n",
            "                                                                 \n",
            " max_pooling2d_37 (MaxPooli  (None, 11, 12, 128)       0         \n",
            " ng2D)                                                           \n",
            "                                                                 \n",
            " dropout_39 (Dropout)        (None, 11, 12, 128)       0         \n",
            "                                                                 \n",
            " conv2d_72 (Conv2D)          (None, 11, 12, 256)       295168    \n",
            "                                                                 \n",
            " conv2d_73 (Conv2D)          (None, 11, 12, 256)       590080    \n",
            "                                                                 \n",
            " max_pooling2d_38 (MaxPooli  (None, 5, 6, 256)         0         \n",
            " ng2D)                                                           \n",
            "                                                                 \n",
            " dropout_40 (Dropout)        (None, 5, 6, 256)         0         \n",
            "                                                                 \n",
            " flatten_12 (Flatten)        (None, 7680)              0         \n",
            "                                                                 \n",
            " dense_16 (Dense)            (None, 512)               3932672   \n",
            "                                                                 \n",
            " dropout_41 (Dropout)        (None, 512)               0         \n",
            "                                                                 \n",
            " dense_17 (Dense)            (None, 4)                 2052      \n",
            "                                                                 \n",
            "=================================================================\n",
            "Total params: 5080132 (19.38 MB)\n",
            "Trainable params: 5080132 (19.38 MB)\n",
            "Non-trainable params: 0 (0.00 Byte)\n",
            "_________________________________________________________________\n"
          ]
        }
      ]
    },
    {
      "cell_type": "code",
      "source": [
        "history = model.fit(X_train_1, y_train_1, epochs=50, batch_size=128, validation_split = 0.2)"
      ],
      "metadata": {
        "colab": {
          "base_uri": "https://localhost:8080/"
        },
        "id": "ustb6wlSGyXJ",
        "outputId": "d3d09a08-0a20-406a-c4b0-d2bc35f82073"
      },
      "execution_count": null,
      "outputs": [
        {
          "output_type": "stream",
          "name": "stdout",
          "text": [
            "Epoch 1/50\n",
            "102/102 [==============================] - 11s 79ms/step - loss: 1.1350 - accuracy: 0.4641 - val_loss: 0.7154 - val_accuracy: 0.7118\n",
            "Epoch 2/50\n",
            "102/102 [==============================] - 8s 77ms/step - loss: 0.5164 - accuracy: 0.7917 - val_loss: 0.3393 - val_accuracy: 0.8730\n",
            "Epoch 3/50\n",
            "102/102 [==============================] - 7s 73ms/step - loss: 0.3426 - accuracy: 0.8646 - val_loss: 0.2506 - val_accuracy: 0.9027\n",
            "Epoch 4/50\n",
            "102/102 [==============================] - 8s 76ms/step - loss: 0.2561 - accuracy: 0.9000 - val_loss: 0.1957 - val_accuracy: 0.9252\n",
            "Epoch 5/50\n",
            "102/102 [==============================] - 8s 75ms/step - loss: 0.2016 - accuracy: 0.9210 - val_loss: 0.1943 - val_accuracy: 0.9228\n",
            "Epoch 6/50\n",
            "102/102 [==============================] - 8s 76ms/step - loss: 0.1785 - accuracy: 0.9305 - val_loss: 0.1587 - val_accuracy: 0.9410\n",
            "Epoch 7/50\n",
            "102/102 [==============================] - 8s 76ms/step - loss: 0.1627 - accuracy: 0.9371 - val_loss: 0.1286 - val_accuracy: 0.9506\n",
            "Epoch 8/50\n",
            "102/102 [==============================] - 8s 78ms/step - loss: 0.1390 - accuracy: 0.9482 - val_loss: 0.1199 - val_accuracy: 0.9595\n",
            "Epoch 9/50\n",
            "102/102 [==============================] - 8s 81ms/step - loss: 0.1258 - accuracy: 0.9537 - val_loss: 0.1225 - val_accuracy: 0.9490\n",
            "Epoch 10/50\n",
            "102/102 [==============================] - 8s 75ms/step - loss: 0.1088 - accuracy: 0.9598 - val_loss: 0.1144 - val_accuracy: 0.9546\n",
            "Epoch 11/50\n",
            "102/102 [==============================] - 8s 74ms/step - loss: 0.1027 - accuracy: 0.9606 - val_loss: 0.1004 - val_accuracy: 0.9629\n",
            "Epoch 12/50\n",
            "102/102 [==============================] - 8s 74ms/step - loss: 0.1021 - accuracy: 0.9601 - val_loss: 0.0984 - val_accuracy: 0.9657\n",
            "Epoch 13/50\n",
            "102/102 [==============================] - 8s 76ms/step - loss: 0.0835 - accuracy: 0.9686 - val_loss: 0.0775 - val_accuracy: 0.9663\n",
            "Epoch 14/50\n",
            "102/102 [==============================] - 7s 73ms/step - loss: 0.0822 - accuracy: 0.9696 - val_loss: 0.0717 - val_accuracy: 0.9765\n",
            "Epoch 15/50\n",
            "102/102 [==============================] - 8s 74ms/step - loss: 0.0756 - accuracy: 0.9717 - val_loss: 0.0813 - val_accuracy: 0.9719\n",
            "Epoch 16/50\n",
            "102/102 [==============================] - 8s 76ms/step - loss: 0.0645 - accuracy: 0.9755 - val_loss: 0.0720 - val_accuracy: 0.9759\n",
            "Epoch 17/50\n",
            "102/102 [==============================] - 8s 75ms/step - loss: 0.0583 - accuracy: 0.9793 - val_loss: 0.0941 - val_accuracy: 0.9697\n",
            "Epoch 18/50\n",
            "102/102 [==============================] - 8s 75ms/step - loss: 0.0643 - accuracy: 0.9785 - val_loss: 0.0670 - val_accuracy: 0.9768\n",
            "Epoch 19/50\n",
            "102/102 [==============================] - 7s 72ms/step - loss: 0.0592 - accuracy: 0.9781 - val_loss: 0.0786 - val_accuracy: 0.9716\n",
            "Epoch 20/50\n",
            "102/102 [==============================] - 7s 73ms/step - loss: 0.0527 - accuracy: 0.9796 - val_loss: 0.0607 - val_accuracy: 0.9787\n",
            "Epoch 21/50\n",
            "102/102 [==============================] - 7s 73ms/step - loss: 0.0640 - accuracy: 0.9777 - val_loss: 0.0788 - val_accuracy: 0.9744\n",
            "Epoch 22/50\n",
            "102/102 [==============================] - 8s 74ms/step - loss: 0.0638 - accuracy: 0.9747 - val_loss: 0.0780 - val_accuracy: 0.9734\n",
            "Epoch 23/50\n",
            "102/102 [==============================] - 8s 77ms/step - loss: 0.0657 - accuracy: 0.9764 - val_loss: 0.0627 - val_accuracy: 0.9778\n",
            "Epoch 24/50\n",
            "102/102 [==============================] - 7s 71ms/step - loss: 0.0474 - accuracy: 0.9830 - val_loss: 0.0614 - val_accuracy: 0.9805\n",
            "Epoch 25/50\n",
            "102/102 [==============================] - 8s 74ms/step - loss: 0.0494 - accuracy: 0.9832 - val_loss: 0.0703 - val_accuracy: 0.9771\n",
            "Epoch 26/50\n",
            "102/102 [==============================] - 7s 73ms/step - loss: 0.0381 - accuracy: 0.9869 - val_loss: 0.0795 - val_accuracy: 0.9731\n",
            "Epoch 27/50\n",
            "102/102 [==============================] - 7s 73ms/step - loss: 0.0379 - accuracy: 0.9862 - val_loss: 0.0528 - val_accuracy: 0.9827\n",
            "Epoch 28/50\n",
            "102/102 [==============================] - 8s 74ms/step - loss: 0.0352 - accuracy: 0.9866 - val_loss: 0.0568 - val_accuracy: 0.9812\n",
            "Epoch 29/50\n",
            "102/102 [==============================] - 7s 73ms/step - loss: 0.0355 - accuracy: 0.9881 - val_loss: 0.0507 - val_accuracy: 0.9805\n",
            "Epoch 30/50\n",
            "102/102 [==============================] - 7s 72ms/step - loss: 0.0333 - accuracy: 0.9879 - val_loss: 0.0620 - val_accuracy: 0.9808\n",
            "Epoch 31/50\n",
            "102/102 [==============================] - 8s 74ms/step - loss: 0.0369 - accuracy: 0.9865 - val_loss: 0.0614 - val_accuracy: 0.9808\n",
            "Epoch 32/50\n",
            "102/102 [==============================] - 8s 74ms/step - loss: 0.0274 - accuracy: 0.9905 - val_loss: 0.0754 - val_accuracy: 0.9784\n",
            "Epoch 33/50\n",
            "102/102 [==============================] - 7s 71ms/step - loss: 0.0331 - accuracy: 0.9874 - val_loss: 0.0554 - val_accuracy: 0.9833\n",
            "Epoch 34/50\n",
            "102/102 [==============================] - 8s 75ms/step - loss: 0.0254 - accuracy: 0.9907 - val_loss: 0.0534 - val_accuracy: 0.9852\n",
            "Epoch 35/50\n",
            "102/102 [==============================] - 8s 74ms/step - loss: 0.0305 - accuracy: 0.9882 - val_loss: 0.0536 - val_accuracy: 0.9849\n",
            "Epoch 36/50\n",
            "102/102 [==============================] - 8s 74ms/step - loss: 0.0310 - accuracy: 0.9892 - val_loss: 0.0801 - val_accuracy: 0.9787\n",
            "Epoch 37/50\n",
            "102/102 [==============================] - 7s 73ms/step - loss: 0.0329 - accuracy: 0.9886 - val_loss: 0.0698 - val_accuracy: 0.9778\n",
            "Epoch 38/50\n",
            "102/102 [==============================] - 8s 74ms/step - loss: 0.0268 - accuracy: 0.9907 - val_loss: 0.0560 - val_accuracy: 0.9827\n",
            "Epoch 39/50\n",
            "102/102 [==============================] - 8s 76ms/step - loss: 0.0348 - accuracy: 0.9897 - val_loss: 0.0682 - val_accuracy: 0.9774\n",
            "Epoch 40/50\n",
            "102/102 [==============================] - 8s 74ms/step - loss: 0.0259 - accuracy: 0.9911 - val_loss: 0.0464 - val_accuracy: 0.9849\n",
            "Epoch 41/50\n",
            "102/102 [==============================] - 7s 73ms/step - loss: 0.0302 - accuracy: 0.9902 - val_loss: 0.0684 - val_accuracy: 0.9827\n",
            "Epoch 42/50\n",
            "102/102 [==============================] - 8s 74ms/step - loss: 0.0221 - accuracy: 0.9930 - val_loss: 0.0545 - val_accuracy: 0.9793\n",
            "Epoch 43/50\n",
            "102/102 [==============================] - 8s 74ms/step - loss: 0.0260 - accuracy: 0.9914 - val_loss: 0.0620 - val_accuracy: 0.9830\n",
            "Epoch 44/50\n",
            "102/102 [==============================] - 7s 73ms/step - loss: 0.0289 - accuracy: 0.9901 - val_loss: 0.0542 - val_accuracy: 0.9818\n",
            "Epoch 45/50\n",
            "102/102 [==============================] - 7s 72ms/step - loss: 0.0239 - accuracy: 0.9913 - val_loss: 0.0822 - val_accuracy: 0.9784\n",
            "Epoch 46/50\n",
            "102/102 [==============================] - 7s 73ms/step - loss: 0.0203 - accuracy: 0.9926 - val_loss: 0.0946 - val_accuracy: 0.9799\n",
            "Epoch 47/50\n",
            "102/102 [==============================] - 8s 74ms/step - loss: 0.0262 - accuracy: 0.9914 - val_loss: 0.0662 - val_accuracy: 0.9830\n",
            "Epoch 48/50\n",
            "102/102 [==============================] - 8s 75ms/step - loss: 0.0214 - accuracy: 0.9924 - val_loss: 0.0705 - val_accuracy: 0.9799\n",
            "Epoch 49/50\n",
            "102/102 [==============================] - 8s 74ms/step - loss: 0.0231 - accuracy: 0.9930 - val_loss: 0.0616 - val_accuracy: 0.9830\n",
            "Epoch 50/50\n",
            "102/102 [==============================] - 7s 72ms/step - loss: 0.0182 - accuracy: 0.9936 - val_loss: 0.0587 - val_accuracy: 0.9802\n"
          ]
        }
      ]
    },
    {
      "cell_type": "code",
      "source": [
        "all_predictions = model.predict(X_test_1)\n",
        "all_predictions_list = all_predictions.tolist()\n",
        "all_predictions.tolist()"
      ],
      "metadata": {
        "id": "brPRreAkYGje"
      },
      "execution_count": null,
      "outputs": []
    },
    {
      "cell_type": "code",
      "source": [
        "all_predictions = model.predict(X_test_1)\n",
        "output = []\n",
        "\n",
        "for prediction in all_predictions:\n",
        "    max_index = np.where(prediction == np.max(prediction))[0][0]\n",
        "    output.append(max_index)\n",
        "\n",
        "print(output)\n",
        "print(len(output))"
      ],
      "metadata": {
        "id": "oOy8a8-8Z4Pq"
      },
      "execution_count": null,
      "outputs": []
    },
    {
      "cell_type": "code",
      "source": [
        "first_column = np.arange(len(output))\n",
        "\n",
        "result_array = np.column_stack((first_column, output))\n",
        "print(result_array)\n",
        "\n",
        "header_row = 'id,target'\n",
        "np.savetxt('/content/drive/MyDrive/output.csv', result_array, delimiter=',', fmt='%d', header=header_row, comments='')"
      ],
      "metadata": {
        "colab": {
          "base_uri": "https://localhost:8080/"
        },
        "id": "g8ogygeBy86h",
        "outputId": "44a2fac1-8a63-46f8-ab10-093dd94417b1"
      },
      "execution_count": null,
      "outputs": [
        {
          "output_type": "stream",
          "name": "stdout",
          "text": [
            "[[   0    1]\n",
            " [   1    3]\n",
            " [   2    3]\n",
            " ...\n",
            " [4793    0]\n",
            " [4794    0]\n",
            " [4795    2]]\n"
          ]
        }
      ]
    }
  ]
}