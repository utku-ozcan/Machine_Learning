{
  "nbformat": 4,
  "nbformat_minor": 0,
  "metadata": {
    "colab": {
      "provenance": [],
      "gpuType": "T4",
      "mount_file_id": "1L44CqVrqfPoyT1CZvTpSVRVZZlNpnWXy",
      "authorship_tag": "ABX9TyO/i9rdjKkj5dE8XrWHXzSo",
      "include_colab_link": true
    },
    "kernelspec": {
      "name": "python3",
      "display_name": "Python 3"
    },
    "language_info": {
      "name": "python"
    },
    "accelerator": "GPU"
  },
  "cells": [
    {
      "cell_type": "markdown",
      "metadata": {
        "id": "view-in-github",
        "colab_type": "text"
      },
      "source": [
        "<a href=\"https://colab.research.google.com/github/utku-ozcan/Machine_Learning/blob/main/lab6.ipynb\" target=\"_parent\"><img src=\"https://colab.research.google.com/assets/colab-badge.svg\" alt=\"Open In Colab\"/></a>"
      ]
    },
    {
      "cell_type": "code",
      "execution_count": 2,
      "metadata": {
        "id": "UTVqHPJTbNzo"
      },
      "outputs": [],
      "source": [
        "from tensorflow import keras\n",
        "from keras.models import Sequential\n",
        "from keras.datasets import mnist\n",
        "import numpy as np\n",
        "import matplotlib\n",
        "import matplotlib.pyplot as plt\n",
        "from keras.models import Sequential\n",
        "from keras.layers import Dense, Flatten\n",
        "from keras.optimizers import SGD\n",
        "from keras.datasets import cifar10\n",
        "from keras.utils import to_categorical\n",
        "import matplotlib.pyplot as plt\n",
        "import matplotlib\n",
        "import numpy as np\n",
        "from keras.layers import Convolution2D\n",
        "import cv2\n",
        "font = {'weight' : 'bold',\n",
        "        'size'   : 12}\n",
        "\n",
        "matplotlib.rc('font', **font)"
      ]
    },
    {
      "cell_type": "code",
      "source": [
        "(X_train, y_train), (X_test, y_test) = mnist.load_data()"
      ],
      "metadata": {
        "id": "WN3rWnnGc9oa",
        "colab": {
          "base_uri": "https://localhost:8080/"
        },
        "outputId": "d2dd734e-b367-4b92-9e8e-650aa469c762"
      },
      "execution_count": 3,
      "outputs": [
        {
          "output_type": "stream",
          "name": "stdout",
          "text": [
            "Downloading data from https://storage.googleapis.com/tensorflow/tf-keras-datasets/mnist.npz\n",
            "11490434/11490434 [==============================] - 0s 0us/step\n"
          ]
        }
      ]
    },
    {
      "cell_type": "code",
      "source": [
        "def display_random_images(x_data: np.array, y_data: np.array, count: int = 10) -> None:\n",
        "  index = np.array(len(x_data))\n",
        "  selected_ind = np.random.choice(index, count)\n",
        "\n",
        "  selected_img = x_data[selected_ind]\n",
        "  selected_labels = y_data[selected_ind]\n",
        "  concat_img = np.concatenate(selected_img, axis=1)\n",
        "\n",
        "  plt.figure(figsize=(20,10))\n",
        "  plt.imshow(concat_img, cmap=\"gray\")\n",
        "\n",
        "  for id_label, label in enumerate(selected_labels):\n",
        "    plt.text(14 + 28*id_label, 28*(5/4), label)\n",
        "  plt.axis('off')\n",
        "  plt.show()"
      ],
      "metadata": {
        "id": "R1VKWNxTdBfZ"
      },
      "execution_count": 4,
      "outputs": []
    },
    {
      "cell_type": "code",
      "source": [
        "display_random_images(X_train, y_train)"
      ],
      "metadata": {
        "colab": {
          "base_uri": "https://localhost:8080/",
          "height": 226
        },
        "id": "QYEYGtIGdG4S",
        "outputId": "f601e570-36c6-42a1-9361-0d5c8f27c78c"
      },
      "execution_count": 5,
      "outputs": [
        {
          "output_type": "display_data",
          "data": {
            "text/plain": [
              "<Figure size 2000x1000 with 1 Axes>"
            ],
            "image/png": "[encoded data removed]"
          },
          "metadata": {}
        }
      ]
    },
    {
      "cell_type": "code",
      "source": [
        "labels = {0:'0',1:'1',2:'2',3:'3',4:'4',5:'5',6:'6',7:'7',8:'8',9:'9'}\n",
        "num_classes = 10\n"
      ],
      "metadata": {
        "id": "_AKtIK20dZWl"
      },
      "execution_count": 6,
      "outputs": []
    },
    {
      "cell_type": "code",
      "source": [
        "X_train.shape"
      ],
      "metadata": {
        "colab": {
          "base_uri": "https://localhost:8080/"
        },
        "id": "q65G8OzMgTSA",
        "outputId": "36cb4c77-ae32-4c2b-d8bc-99d2a3abc7b4"
      },
      "execution_count": 7,
      "outputs": [
        {
          "output_type": "execute_result",
          "data": {
            "text/plain": [
              "(60000, 28, 28)"
            ]
          },
          "metadata": {},
          "execution_count": 7
        }
      ]
    },
    {
      "cell_type": "code",
      "source": [
        "X_train_exp = np.expand_dims(X_train,-1)\n",
        "X_test_exp = np.expand_dims(X_test,-1)"
      ],
      "metadata": {
        "id": "PPdXwAAEh2zu"
      },
      "execution_count": 8,
      "outputs": []
    },
    {
      "cell_type": "code",
      "source": [
        "X_train_exp.shape"
      ],
      "metadata": {
        "colab": {
          "base_uri": "https://localhost:8080/"
        },
        "id": "LxStG5pbiXs-",
        "outputId": "0ea1d23e-0e7c-45d9-9f9f-b4e9a4cdd0fd"
      },
      "execution_count": 9,
      "outputs": [
        {
          "output_type": "execute_result",
          "data": {
            "text/plain": [
              "(60000, 28, 28, 1)"
            ]
          },
          "metadata": {},
          "execution_count": 9
        }
      ]
    },
    {
      "cell_type": "code",
      "source": [
        "X_train_1 = X_train_exp.astype('float32') / 255.0\n",
        "y_train_encoded = to_categorical(y_train, num_classes=10)\n",
        "X_test_1 = X_test_exp.astype('float32') / 255.0\n",
        "y_test_encoded = to_categorical(y_test, num_classes=10)"
      ],
      "metadata": {
        "id": "xwght5oDiCjs"
      },
      "execution_count": 10,
      "outputs": []
    },
    {
      "cell_type": "code",
      "source": [
        "from keras.layers import Conv2D\n",
        "from keras.layers import MaxPool2D"
      ],
      "metadata": {
        "id": "eFHrjm1PgeHF"
      },
      "execution_count": 11,
      "outputs": []
    },
    {
      "cell_type": "code",
      "source": [
        "model = Sequential()\n",
        "model.add(Conv2D(64, kernel_size=(3,3), input_shape=(28,28,1)))\n",
        "model.add(MaxPool2D(pool_size=(2,2)))\n",
        "model.add(Flatten())\n",
        "model.add(Dense(num_classes, activation='softmax'))"
      ],
      "metadata": {
        "id": "xmHI-EMNeEyc"
      },
      "execution_count": 12,
      "outputs": []
    },
    {
      "cell_type": "code",
      "source": [
        "optimizer = SGD(learning_rate = 0.1)\n",
        "model.compile(loss='categorical_crossentropy', optimizer=optimizer, metrics=['accuracy'])"
      ],
      "metadata": {
        "id": "PzGn-KFakiLR"
      },
      "execution_count": 13,
      "outputs": []
    },
    {
      "cell_type": "code",
      "source": [
        "model.summary()"
      ],
      "metadata": {
        "colab": {
          "base_uri": "https://localhost:8080/"
        },
        "id": "6eLwLzH2k0fo",
        "outputId": "4bcb2655-7b91-495d-8777-b73dfe6c9463"
      },
      "execution_count": 14,
      "outputs": [
        {
          "output_type": "stream",
          "name": "stdout",
          "text": [
            "Model: \"sequential\"\n",
            "_________________________________________________________________\n",
            " Layer (type)                Output Shape              Param #   \n",
            "=================================================================\n",
            " conv2d (Conv2D)             (None, 26, 26, 64)        640       \n",
            "                                                                 \n",
            " max_pooling2d (MaxPooling2  (None, 13, 13, 64)        0         \n",
            " D)                                                              \n",
            "                                                                 \n",
            " flatten (Flatten)           (None, 10816)             0         \n",
            "                                                                 \n",
            " dense (Dense)               (None, 10)                108170    \n",
            "                                                                 \n",
            "=================================================================\n",
            "Total params: 108810 (425.04 KB)\n",
            "Trainable params: 108810 (425.04 KB)\n",
            "Non-trainable params: 0 (0.00 Byte)\n",
            "_________________________________________________________________\n"
          ]
        }
      ]
    },
    {
      "cell_type": "code",
      "source": [
        "history = model.fit(X_train_1, y_train_encoded, epochs=50, batch_size=128, validation_split = 0.2)"
      ],
      "metadata": {
        "colab": {
          "base_uri": "https://localhost:8080/"
        },
        "id": "dQk1ld0-kxVx",
        "outputId": "86bc2c94-a3e1-458b-bfc5-4001e21f7fde"
      },
      "execution_count": 15,
      "outputs": [
        {
          "output_type": "stream",
          "name": "stdout",
          "text": [
            "Epoch 1/50\n",
            "375/375 [==============================] - 5s 5ms/step - loss: 0.4496 - accuracy: 0.8684 - val_loss: 0.2824 - val_accuracy: 0.9204\n",
            "Epoch 2/50\n",
            "375/375 [==============================] - 1s 4ms/step - loss: 0.2819 - accuracy: 0.9170 - val_loss: 0.2490 - val_accuracy: 0.9289\n",
            "Epoch 3/50\n",
            "375/375 [==============================] - 2s 5ms/step - loss: 0.2292 - accuracy: 0.9345 - val_loss: 0.1898 - val_accuracy: 0.9485\n",
            "Epoch 4/50\n",
            "375/375 [==============================] - 2s 5ms/step - loss: 0.1837 - accuracy: 0.9479 - val_loss: 0.1559 - val_accuracy: 0.9582\n",
            "Epoch 5/50\n",
            "375/375 [==============================] - 2s 5ms/step - loss: 0.1502 - accuracy: 0.9581 - val_loss: 0.1364 - val_accuracy: 0.9638\n",
            "Epoch 6/50\n",
            "375/375 [==============================] - 2s 5ms/step - loss: 0.1262 - accuracy: 0.9645 - val_loss: 0.1153 - val_accuracy: 0.9696\n",
            "Epoch 7/50\n",
            "375/375 [==============================] - 2s 4ms/step - loss: 0.1105 - accuracy: 0.9688 - val_loss: 0.1052 - val_accuracy: 0.9718\n",
            "Epoch 8/50\n",
            "375/375 [==============================] - 1s 4ms/step - loss: 0.0988 - accuracy: 0.9724 - val_loss: 0.0987 - val_accuracy: 0.9738\n",
            "Epoch 9/50\n",
            "375/375 [==============================] - 1s 4ms/step - loss: 0.0895 - accuracy: 0.9750 - val_loss: 0.0942 - val_accuracy: 0.9747\n",
            "Epoch 10/50\n",
            "375/375 [==============================] - 2s 4ms/step - loss: 0.0823 - accuracy: 0.9766 - val_loss: 0.0910 - val_accuracy: 0.9742\n",
            "Epoch 11/50\n",
            "375/375 [==============================] - 2s 4ms/step - loss: 0.0766 - accuracy: 0.9783 - val_loss: 0.0889 - val_accuracy: 0.9745\n",
            "Epoch 12/50\n",
            "375/375 [==============================] - 2s 4ms/step - loss: 0.0717 - accuracy: 0.9799 - val_loss: 0.0848 - val_accuracy: 0.9765\n",
            "Epoch 13/50\n",
            "375/375 [==============================] - 2s 6ms/step - loss: 0.0680 - accuracy: 0.9813 - val_loss: 0.0806 - val_accuracy: 0.9764\n",
            "Epoch 14/50\n",
            "375/375 [==============================] - 2s 5ms/step - loss: 0.0640 - accuracy: 0.9818 - val_loss: 0.0804 - val_accuracy: 0.9764\n",
            "Epoch 15/50\n",
            "375/375 [==============================] - 1s 4ms/step - loss: 0.0608 - accuracy: 0.9827 - val_loss: 0.0779 - val_accuracy: 0.9770\n",
            "Epoch 16/50\n",
            "375/375 [==============================] - 2s 4ms/step - loss: 0.0579 - accuracy: 0.9835 - val_loss: 0.0787 - val_accuracy: 0.9770\n",
            "Epoch 17/50\n",
            "375/375 [==============================] - 2s 4ms/step - loss: 0.0549 - accuracy: 0.9843 - val_loss: 0.0755 - val_accuracy: 0.9779\n",
            "Epoch 18/50\n",
            "375/375 [==============================] - 2s 4ms/step - loss: 0.0529 - accuracy: 0.9851 - val_loss: 0.0731 - val_accuracy: 0.9785\n",
            "Epoch 19/50\n",
            "375/375 [==============================] - 2s 4ms/step - loss: 0.0502 - accuracy: 0.9856 - val_loss: 0.0728 - val_accuracy: 0.9787\n",
            "Epoch 20/50\n",
            "375/375 [==============================] - 1s 4ms/step - loss: 0.0483 - accuracy: 0.9866 - val_loss: 0.0748 - val_accuracy: 0.9783\n",
            "Epoch 21/50\n",
            "375/375 [==============================] - 2s 5ms/step - loss: 0.0466 - accuracy: 0.9866 - val_loss: 0.0734 - val_accuracy: 0.9785\n",
            "Epoch 22/50\n",
            "375/375 [==============================] - 2s 5ms/step - loss: 0.0446 - accuracy: 0.9877 - val_loss: 0.0722 - val_accuracy: 0.9788\n",
            "Epoch 23/50\n",
            "375/375 [==============================] - 2s 4ms/step - loss: 0.0428 - accuracy: 0.9876 - val_loss: 0.0737 - val_accuracy: 0.9783\n",
            "Epoch 24/50\n",
            "375/375 [==============================] - 1s 4ms/step - loss: 0.0417 - accuracy: 0.9882 - val_loss: 0.0738 - val_accuracy: 0.9784\n",
            "Epoch 25/50\n",
            "375/375 [==============================] - 1s 4ms/step - loss: 0.0395 - accuracy: 0.9892 - val_loss: 0.0709 - val_accuracy: 0.9797\n",
            "Epoch 26/50\n",
            "375/375 [==============================] - 2s 4ms/step - loss: 0.0386 - accuracy: 0.9890 - val_loss: 0.0725 - val_accuracy: 0.9789\n",
            "Epoch 27/50\n",
            "375/375 [==============================] - 1s 4ms/step - loss: 0.0371 - accuracy: 0.9898 - val_loss: 0.0731 - val_accuracy: 0.9779\n",
            "Epoch 28/50\n",
            "375/375 [==============================] - 1s 4ms/step - loss: 0.0360 - accuracy: 0.9900 - val_loss: 0.0706 - val_accuracy: 0.9785\n",
            "Epoch 29/50\n",
            "375/375 [==============================] - 2s 6ms/step - loss: 0.0346 - accuracy: 0.9904 - val_loss: 0.0704 - val_accuracy: 0.9799\n",
            "Epoch 30/50\n",
            "375/375 [==============================] - 2s 5ms/step - loss: 0.0331 - accuracy: 0.9913 - val_loss: 0.0707 - val_accuracy: 0.9802\n",
            "Epoch 31/50\n",
            "375/375 [==============================] - 1s 4ms/step - loss: 0.0323 - accuracy: 0.9913 - val_loss: 0.0736 - val_accuracy: 0.9783\n",
            "Epoch 32/50\n",
            "375/375 [==============================] - 1s 4ms/step - loss: 0.0311 - accuracy: 0.9916 - val_loss: 0.0703 - val_accuracy: 0.9797\n",
            "Epoch 33/50\n",
            "375/375 [==============================] - 2s 4ms/step - loss: 0.0303 - accuracy: 0.9917 - val_loss: 0.0692 - val_accuracy: 0.9803\n",
            "Epoch 34/50\n",
            "375/375 [==============================] - 1s 4ms/step - loss: 0.0288 - accuracy: 0.9927 - val_loss: 0.0695 - val_accuracy: 0.9795\n",
            "Epoch 35/50\n",
            "375/375 [==============================] - 1s 4ms/step - loss: 0.0280 - accuracy: 0.9925 - val_loss: 0.0694 - val_accuracy: 0.9805\n",
            "Epoch 36/50\n",
            "375/375 [==============================] - 2s 4ms/step - loss: 0.0269 - accuracy: 0.9931 - val_loss: 0.0714 - val_accuracy: 0.9789\n",
            "Epoch 37/50\n",
            "375/375 [==============================] - 2s 5ms/step - loss: 0.0263 - accuracy: 0.9931 - val_loss: 0.0723 - val_accuracy: 0.9798\n",
            "Epoch 38/50\n",
            "375/375 [==============================] - 2s 5ms/step - loss: 0.0257 - accuracy: 0.9934 - val_loss: 0.0698 - val_accuracy: 0.9797\n",
            "Epoch 39/50\n",
            "375/375 [==============================] - 1s 4ms/step - loss: 0.0245 - accuracy: 0.9938 - val_loss: 0.0701 - val_accuracy: 0.9806\n",
            "Epoch 40/50\n",
            "375/375 [==============================] - 2s 4ms/step - loss: 0.0241 - accuracy: 0.9937 - val_loss: 0.0704 - val_accuracy: 0.9799\n",
            "Epoch 41/50\n",
            "375/375 [==============================] - 2s 4ms/step - loss: 0.0232 - accuracy: 0.9941 - val_loss: 0.0692 - val_accuracy: 0.9804\n",
            "Epoch 42/50\n",
            "375/375 [==============================] - 2s 4ms/step - loss: 0.0224 - accuracy: 0.9943 - val_loss: 0.0706 - val_accuracy: 0.9808\n",
            "Epoch 43/50\n",
            "375/375 [==============================] - 2s 4ms/step - loss: 0.0214 - accuracy: 0.9949 - val_loss: 0.0707 - val_accuracy: 0.9807\n",
            "Epoch 44/50\n",
            "375/375 [==============================] - 2s 5ms/step - loss: 0.0213 - accuracy: 0.9949 - val_loss: 0.0697 - val_accuracy: 0.9803\n",
            "Epoch 45/50\n",
            "375/375 [==============================] - 2s 6ms/step - loss: 0.0203 - accuracy: 0.9950 - val_loss: 0.0714 - val_accuracy: 0.9797\n",
            "Epoch 46/50\n",
            "375/375 [==============================] - 2s 4ms/step - loss: 0.0196 - accuracy: 0.9957 - val_loss: 0.0722 - val_accuracy: 0.9800\n",
            "Epoch 47/50\n",
            "375/375 [==============================] - 2s 4ms/step - loss: 0.0189 - accuracy: 0.9958 - val_loss: 0.0723 - val_accuracy: 0.9793\n",
            "Epoch 48/50\n",
            "375/375 [==============================] - 1s 4ms/step - loss: 0.0186 - accuracy: 0.9959 - val_loss: 0.0716 - val_accuracy: 0.9793\n",
            "Epoch 49/50\n",
            "375/375 [==============================] - 2s 5ms/step - loss: 0.0180 - accuracy: 0.9961 - val_loss: 0.0717 - val_accuracy: 0.9793\n",
            "Epoch 50/50\n",
            "375/375 [==============================] - 2s 5ms/step - loss: 0.0174 - accuracy: 0.9961 - val_loss: 0.0713 - val_accuracy: 0.9803\n"
          ]
        }
      ]
    },
    {
      "cell_type": "code",
      "source": [
        "score = model.evaluate(X_test_1, y_test_encoded, verbose=0)\n",
        "print('Test loss:', score[0])\n",
        "print(f'Test accuracy: {score[1]*100} %')"
      ],
      "metadata": {
        "colab": {
          "base_uri": "https://localhost:8080/"
        },
        "id": "5cdnuP2vnxRJ",
        "outputId": "623d04be-4492-4a7b-e530-7acd1668096e"
      },
      "execution_count": 16,
      "outputs": [
        {
          "output_type": "stream",
          "name": "stdout",
          "text": [
            "Test loss: 0.06555096060037613\n",
            "Test accuracy: 98.05999994277954 %\n"
          ]
        }
      ]
    },
    {
      "cell_type": "code",
      "source": [
        "plt.figure()\n",
        "plt.plot(history.history['loss'])\n",
        "plt.plot(history.history['val_loss'])"
      ],
      "metadata": {
        "colab": {
          "base_uri": "https://localhost:8080/",
          "height": 451
        },
        "id": "AgVmooK_oDrR",
        "outputId": "1f441025-dd7d-4db6-9f24-a0096594d253"
      },
      "execution_count": 17,
      "outputs": [
        {
          "output_type": "execute_result",
          "data": {
            "text/plain": [
              "[<matplotlib.lines.Line2D at 0x7bed0820c730>]"
            ]
          },
          "metadata": {},
          "execution_count": 17
        },
        {
          "output_type": "display_data",
          "data": {
            "text/plain": [
              "<Figure size 640x480 with 1 Axes>"
            ],
            "image/png": "[encoded data removed]"
          },
          "metadata": {}
        }
      ]
    },
    {
      "cell_type": "code",
      "source": [
        "plt.figure()\n",
        "plt.plot(history.history['accuracy'])\n",
        "plt.plot(history.history['val_accuracy'])"
      ],
      "metadata": {
        "colab": {
          "base_uri": "https://localhost:8080/",
          "height": 451
        },
        "id": "1j-p0F25oG3h",
        "outputId": "39877370-8ede-42e8-81a9-a081b4784b10"
      },
      "execution_count": 18,
      "outputs": [
        {
          "output_type": "execute_result",
          "data": {
            "text/plain": [
              "[<matplotlib.lines.Line2D at 0x7bed080a8490>]"
            ]
          },
          "metadata": {},
          "execution_count": 18
        },
        {
          "output_type": "display_data",
          "data": {
            "text/plain": [
              "<Figure size 640x480 with 1 Axes>"
            ],
            "image/png": "[encoded data removed]"
          },
          "metadata": {}
        }
      ]
    },
    {
      "cell_type": "code",
      "source": [
        "def show_the_best_predictions(model, x_test: np.array, y_test: np.array, n_of_pred: int = 10) -> None:\n",
        "  mapping = {0:'0',1:'1',2:'2',3:'3',4:'4',5:'5',6:'6',7:'7',8:'8',9:'9'}\n",
        "\n",
        "  predictions = model.predict(x_test)\n",
        "  y_test = y_test.reshape(1,-1)\n",
        "  predictions_ind = np.argmax(predictions, axis=1)\n",
        "  predictions_ind = predictions_ind.reshape(1, -1)\n",
        "\n",
        "  corect_predictions = np.where(predictions_ind == y_test)\n",
        "\n",
        "  rows_correct = corect_predictions[1]\n",
        "  predictedtions_correct = predictions[rows_correct]\n",
        "  target_correct = y_test[0][rows_correct]\n",
        "\n",
        "  max_samples = predictions[rows_correct, target_correct]\n",
        "  selected_images = x_test[rows_correct]\n",
        "  sorted_ind = np.argsort(max_samples)[::-1]\n",
        "\n",
        "\n",
        "  images = []\n",
        "  prob = []\n",
        "  labels = []\n",
        "\n",
        "\n",
        "  for ind in range(n_of_pred):\n",
        "\n",
        "    index = sorted_ind[ind]\n",
        "\n",
        "    labels.append(target_correct[index])\n",
        "    prob.append(max_samples[index])\n",
        "    images.append(selected_images[index])\n",
        "\n",
        "  plt.figure(figsize=(20,10))\n",
        "\n",
        "  images = np.concatenate(np.asarray(images),axis=1)\n",
        "  plt.imshow(images)\n",
        "  for ins in range(n_of_pred):\n",
        "    texts = '{}: \\n{:.3f} %'.format(mapping[labels[ins]], prob[ins]*100)\n",
        "    plt.text((32/2) + 32*ins - len(mapping[labels[ins]]), 32*(5/4), texts)\n",
        "\n",
        "  plt.axis('off')\n",
        "  plt.show()"
      ],
      "metadata": {
        "id": "GlKkKbwYqgU3"
      },
      "execution_count": 19,
      "outputs": []
    },
    {
      "cell_type": "code",
      "source": [
        "show_the_best_predictions(model, X_test_1, y_test)"
      ],
      "metadata": {
        "colab": {
          "base_uri": "https://localhost:8080/",
          "height": 241
        },
        "id": "1ldBuKqHqhlq",
        "outputId": "ca5bd12f-dd97-4a0f-cadc-6af2b70141cd"
      },
      "execution_count": 20,
      "outputs": [
        {
          "output_type": "stream",
          "name": "stdout",
          "text": [
            "313/313 [==============================] - 1s 2ms/step\n"
          ]
        },
        {
          "output_type": "display_data",
          "data": {
            "text/plain": [
              "<Figure size 2000x1000 with 1 Axes>"
            ],
            "image/png": "[encoded data removed]"
          },
          "metadata": {}
        }
      ]
    }
  ]
}